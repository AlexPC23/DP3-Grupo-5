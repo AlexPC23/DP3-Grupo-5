{
  "nbformat": 4,
  "nbformat_minor": 0,
  "metadata": {
    "colab": {
      "name": "Clustering.ipynb",
      "provenance": []
    },
    "kernelspec": {
      "name": "python3",
      "display_name": "Python 3"
    },
    "language_info": {
      "name": "python"
    }
  },
  "cells": [
    {
      "cell_type": "markdown",
      "source": [
        "# **CLUSTERING**"
      ],
      "metadata": {
        "id": "sAuy3ZpkTmet"
      }
    },
    {
      "cell_type": "markdown",
      "source": [
        "K-MEANS y Elbow Model"
      ],
      "metadata": {
        "id": "q6vImpfaTaAL"
      }
    },
    {
      "cell_type": "code",
      "source": [
        "!pip install matplotlib seaborn sklearn"
      ],
      "metadata": {
        "colab": {
          "base_uri": "https://localhost:8080/"
        },
        "id": "GCJ-YnxH4hhf",
        "outputId": "18a7bc02-111a-46b8-d6d5-1ddcdc4a37d0"
      },
      "execution_count": 1,
      "outputs": [
        {
          "output_type": "stream",
          "name": "stdout",
          "text": [
            "Requirement already satisfied: matplotlib in /usr/local/lib/python3.7/dist-packages (3.2.2)\n",
            "Requirement already satisfied: seaborn in /usr/local/lib/python3.7/dist-packages (0.11.2)\n",
            "Requirement already satisfied: sklearn in /usr/local/lib/python3.7/dist-packages (0.0)\n",
            "Requirement already satisfied: kiwisolver>=1.0.1 in /usr/local/lib/python3.7/dist-packages (from matplotlib) (1.4.2)\n",
            "Requirement already satisfied: cycler>=0.10 in /usr/local/lib/python3.7/dist-packages (from matplotlib) (0.11.0)\n",
            "Requirement already satisfied: python-dateutil>=2.1 in /usr/local/lib/python3.7/dist-packages (from matplotlib) (2.8.2)\n",
            "Requirement already satisfied: numpy>=1.11 in /usr/local/lib/python3.7/dist-packages (from matplotlib) (1.21.6)\n",
            "Requirement already satisfied: pyparsing!=2.0.4,!=2.1.2,!=2.1.6,>=2.0.1 in /usr/local/lib/python3.7/dist-packages (from matplotlib) (3.0.8)\n",
            "Requirement already satisfied: typing-extensions in /usr/local/lib/python3.7/dist-packages (from kiwisolver>=1.0.1->matplotlib) (4.2.0)\n",
            "Requirement already satisfied: six>=1.5 in /usr/local/lib/python3.7/dist-packages (from python-dateutil>=2.1->matplotlib) (1.15.0)\n",
            "Requirement already satisfied: pandas>=0.23 in /usr/local/lib/python3.7/dist-packages (from seaborn) (1.3.5)\n",
            "Requirement already satisfied: scipy>=1.0 in /usr/local/lib/python3.7/dist-packages (from seaborn) (1.4.1)\n",
            "Requirement already satisfied: pytz>=2017.3 in /usr/local/lib/python3.7/dist-packages (from pandas>=0.23->seaborn) (2022.1)\n",
            "Requirement already satisfied: scikit-learn in /usr/local/lib/python3.7/dist-packages (from sklearn) (1.0.2)\n",
            "Requirement already satisfied: joblib>=0.11 in /usr/local/lib/python3.7/dist-packages (from scikit-learn->sklearn) (1.1.0)\n",
            "Requirement already satisfied: threadpoolctl>=2.0.0 in /usr/local/lib/python3.7/dist-packages (from scikit-learn->sklearn) (3.1.0)\n"
          ]
        }
      ]
    },
    {
      "cell_type": "code",
      "execution_count": 1,
      "metadata": {
        "id": "cFaZ7WNVKWff"
      },
      "outputs": [],
      "source": [
        "#Importamos librerías\n",
        "import numpy as np # linear algebra\n",
        "import pandas as pd # data processing, CSV file I/O (e.g. pd.read_csv)\n",
        "import matplotlib.pyplot as plt # for data visualization\n",
        "import seaborn as sns # for statistical data visualization\n",
        "%matplotlib inline\n",
        "from sklearn.cluster import KMeans\n",
        "\n",
        "# Configuración warnings\n",
        "\n",
        "import warnings\n",
        "warnings.filterwarnings('ignore')"
      ]
    },
    {
      "cell_type": "code",
      "source": [
        "# Importamos el dataset\n",
        "df = pd.read_csv(\"\")\n",
        "df_cluster = "
      ],
      "metadata": {
        "id": "PdbDURVwKu9O"
      },
      "execution_count": 2,
      "outputs": []
    },
    {
      "cell_type": "code",
      "source": [
        "df_cluster.shape\n"
      ],
      "metadata": {
        "id": "mlVhPUTmK9ll"
      },
      "execution_count": null,
      "outputs": []
    },
    {
      "cell_type": "code",
      "source": [
        "df_cluster.head()"
      ],
      "metadata": {
        "id": "KxhTUbJfavbD"
      },
      "execution_count": null,
      "outputs": []
    },
    {
      "cell_type": "code",
      "source": [
        "#Hacemos una rápida visualización para ver como son los datos\n",
        "print(df_cluster)"
      ],
      "metadata": {
        "id": "b02GJmkPLF1q"
      },
      "execution_count": null,
      "outputs": []
    },
    {
      "cell_type": "code",
      "source": [
        "#Mostramos las variables y sus datatypes\n",
        "df_cluster.columns\n"
      ],
      "metadata": {
        "id": "VuWgViOjLXJC"
      },
      "execution_count": null,
      "outputs": []
    },
    {
      "cell_type": "code",
      "source": [
        "df_cluster.dtypes"
      ],
      "metadata": {
        "id": "uPHG4dhPbUbm"
      },
      "execution_count": null,
      "outputs": []
    },
    {
      "cell_type": "markdown",
      "source": [
        "Elbow Method para ver el número de clusters"
      ],
      "metadata": {
        "id": "IZZnIagS5Jd6"
      }
    },
    {
      "cell_type": "code",
      "source": [
        "distortions = []\n",
        "K = range(1,10)\n",
        "for k in K:\n",
        "    kmeanModel = KMeans(n_clusters=k)\n",
        "    kmeanModel.fit(df_cluster)\n",
        "    distortions.append(kmeanModel.inertia_)"
      ],
      "metadata": {
        "id": "zWxnKiIrMn3G"
      },
      "execution_count": null,
      "outputs": []
    },
    {
      "cell_type": "markdown",
      "source": [
        "Mostramos en pantalla y analizamos el **elbow plot**"
      ],
      "metadata": {
        "id": "xpz5Z_p2M4DB"
      }
    },
    {
      "cell_type": "code",
      "source": [
        "plt.figure(figsize=(16,8))\n",
        "plt.plot(K, distortions, 'bx-')\n",
        "plt.xlabel('k')\n",
        "plt.ylabel('Distortion score')\n",
        "plt.title('The Elbow Method showing the optimal k')\n",
        "plt.show()"
      ],
      "metadata": {
        "id": "yBsTwJARM8wt"
      },
      "execution_count": null,
      "outputs": []
    },
    {
      "cell_type": "markdown",
      "source": [
        "**Método K-MEANS**"
      ],
      "metadata": {
        "id": "Vz5mnKZv5Vvd"
      }
    },
    {
      "cell_type": "code",
      "source": [
        "clustering =  KMeans(n_clusters = 2, max_iter = 300)\n",
        "clustering.fit(df_cluster)"
      ],
      "metadata": {
        "id": "OskUQYfB5Vew"
      },
      "execution_count": null,
      "outputs": []
    },
    {
      "cell_type": "markdown",
      "source": [
        "# **Shiloutte Score**"
      ],
      "metadata": {
        "id": "wLkvqHAdNLZA"
      }
    },
    {
      "cell_type": "code",
      "source": [
        "#Importamos librerías\n",
        "import numpy as np\n",
        "import pandas as pd\n",
        "import csv\n",
        "from sklearn.cluster import KMeans\n",
        "from sklearn.metrics import silhouette_score"
      ],
      "metadata": {
        "id": "NFE52bxaNRgc"
      },
      "execution_count": 10,
      "outputs": []
    },
    {
      "cell_type": "code",
      "source": [
        "#Importamos el dataset\n",
        "dataframe = pd.read_csv('')\n",
        "df = dataframe.copy(deep=True)"
      ],
      "metadata": {
        "id": "5yiw1pvIP39M"
      },
      "execution_count": 11,
      "outputs": []
    },
    {
      "cell_type": "code",
      "source": [
        "#Usamos el silhouette score\n",
        "range_n_clusters = list (range(2,10))\n",
        "print (\"Number of clusters from 2 to 9: \\n\", range_n_clusters)"
      ],
      "metadata": {
        "colab": {
          "base_uri": "https://localhost:8080/"
        },
        "id": "x64AFIWOQ8ds",
        "outputId": "f4fb3087-59a6-4ff4-abdb-8a3c1fbefc9a"
      },
      "execution_count": 12,
      "outputs": [
        {
          "output_type": "stream",
          "name": "stdout",
          "text": [
            "Number of clusters from 2 to 9: \n",
            " [2, 3, 4, 5, 6, 7, 8, 9]\n"
          ]
        }
      ]
    },
    {
      "cell_type": "code",
      "source": [
        "# Ajustamos el modelo para el rango de resultados y mostramos los resultados\n",
        "\n",
        "for n_clusters in range_n_clusters:\n",
        "    clusterer = KMeans (n_clusters=n_clusters).fit(df)\n",
        "    preds = clusterer.predict(df)\n",
        "    centers = clusterer.cluster_centers_\n",
        "    score = silhouette_score(df, preds)\n",
        "    print(\"For n_clusters = {}, silhouette score is {})\".format(n_clusters, score))"
      ],
      "metadata": {
        "id": "DhH1iuV0RN4P"
      },
      "execution_count": null,
      "outputs": []
    },
    {
      "cell_type": "markdown",
      "source": [
        "# **Agregamos al dataset original** "
      ],
      "metadata": {
        "id": "BvBZ61nP6UXE"
      }
    },
    {
      "cell_type": "code",
      "source": [
        "df['Cluster'] = clustering.labels_\n",
        "df.head()"
      ],
      "metadata": {
        "id": "YipxKwgu6664"
      },
      "execution_count": null,
      "outputs": []
    },
    {
      "cell_type": "code",
      "source": [
        "df.to_csv('cluster_train.csv', sep=';', index=False)"
      ],
      "metadata": {
        "id": "lfWVfXPS7G-s"
      },
      "execution_count": null,
      "outputs": []
    },
    {
      "cell_type": "markdown",
      "source": [
        "# **Visualización clusters**"
      ],
      "metadata": {
        "id": "M_AyFJHC75Du"
      }
    },
    {
      "cell_type": "code",
      "source": [
        "from sklearn.decomposition import PCA \n",
        "\n",
        "pca = PCA (n_components=2)\n",
        "pca_df_cluster = pca.fit_transform(df_cluster)\n",
        "pca_df_cluster_2 = pd.Dataframe(data=pca_df_cluster, columns = ['Componente1', 'Componente2'])\n",
        "pca_columna = pd.concat([pca_df_cluster_2, df[['Cluster']]], axis=1)\n"
      ],
      "metadata": {
        "id": "XK_ACsCfx6PL"
      },
      "execution_count": null,
      "outputs": []
    },
    {
      "cell_type": "code",
      "source": [
        "fig = plt.figure(figsize = (6,6))\n",
        "ax = fig.add_subplot(1,1,1)\n",
        "ax.set_xlabel('Componente1', fontsize = 15)\n",
        "ax.set_ylabel('Componente2', fontsize = 15)\n",
        "ax.set_title('Componentes', fontsize = 20)\n",
        "\n",
        "color_theme = np.array([\"red\", \"blue\", \"black\"])\n",
        "ax.scatter(x = pca_columna.Componente1, y = pca_columna.Componente2,\n",
        "          c=color_theme[pca_columna.Cluster], s = 50)\n",
        "plt.show()"
      ],
      "metadata": {
        "id": "oqG7EwCz9T84"
      },
      "execution_count": null,
      "outputs": []
    },
    {
      "cell_type": "markdown",
      "source": [
        "Agregamos los clusters al dataset test"
      ],
      "metadata": {
        "id": "hd8aTrFB-Ie_"
      }
    },
    {
      "cell_type": "code",
      "source": [
        "df = pd.read_csv(\"\",sep=';')\n",
        "test, id_column = df.drop(['customerid'],axis=1), df['customerid']\n",
        "res = clustering.predict(test)\n",
        "test['customerid'], test['Cluster'] = id_column, res\n",
        "test.head()"
      ],
      "metadata": {
        "id": "NMJhBYh1-OWR"
      },
      "execution_count": null,
      "outputs": []
    }
  ]
}