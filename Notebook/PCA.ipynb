{
  "nbformat": 4,
  "nbformat_minor": 0,
  "metadata": {
    "colab": {
      "name": "PCA.ipynb",
      "provenance": []
    },
    "kernelspec": {
      "name": "python3",
      "display_name": "Python 3"
    },
    "language_info": {
      "name": "python"
    }
  },
  "cells": [
    {
      "cell_type": "code",
      "execution_count": 74,
      "metadata": {
        "id": "txrqkIZswUC6"
      },
      "outputs": [],
      "source": [
        "import pandas as pd                    #gestionar dataframes\n",
        "import numpy as np  \n",
        "from sklearn.model_selection import train_test_split\n",
        "import seaborn as sns\n",
        "from sklearn.metrics import confusion_matrix\n",
        "import matplotlib.pyplot as plt\n",
        "from sklearn.metrics import accuracy_score\n",
        "import numpy as np\n",
        "\n",
        "from sklearn.preprocessing import OneHotEncoder"
      ]
    },
    {
      "cell_type": "code",
      "source": [
        "df = pd.read_csv('/content/performance_clean.csv')"
      ],
      "metadata": {
        "id": "fFv_ONOOwdhu"
      },
      "execution_count": 75,
      "outputs": []
    },
    {
      "cell_type": "code",
      "source": [
        "df.dtypes"
      ],
      "metadata": {
        "colab": {
          "base_uri": "https://localhost:8080/"
        },
        "id": "PNuQku5812P7",
        "outputId": "4789f3b4-af1d-4510-d718-0fbc8f67f4df"
      },
      "execution_count": 76,
      "outputs": [
        {
          "output_type": "execute_result",
          "data": {
            "text/plain": [
              "customerid            object\n",
              "systemloanid           int64\n",
              "loannumber             int64\n",
              "loanamount           float64\n",
              "termdays              object\n",
              "good_bad_flag         object\n",
              "interest             float64\n",
              "loan_interval          int64\n",
              "interest_interval     object\n",
              "dtype: object"
            ]
          },
          "metadata": {},
          "execution_count": 76
        }
      ]
    },
    {
      "cell_type": "code",
      "source": [
        "X = df.drop(columns=['customerid'] + ['systemloanid'])\n",
        "y = df['good_bad_flag']"
      ],
      "metadata": {
        "id": "xTzGzAot2doO"
      },
      "execution_count": 88,
      "outputs": []
    },
    {
      "cell_type": "markdown",
      "source": [
        "One Hot Encoding"
      ],
      "metadata": {
        "id": "yt61X-gR2zqF"
      }
    },
    {
      "cell_type": "code",
      "source": [
        "categorical_vars = set(X.columns[X.dtypes == object])\n",
        "numerical_vars = set(X.columns) - categorical_vars\n",
        "categorical_vars = list(categorical_vars)\n",
        "numerical_vars = list(numerical_vars)"
      ],
      "metadata": {
        "id": "dM1HJVHP2qWt"
      },
      "execution_count": 89,
      "outputs": []
    },
    {
      "cell_type": "code",
      "source": [
        "print(categorical_vars)\n",
        "print(numerical_vars)"
      ],
      "metadata": {
        "colab": {
          "base_uri": "https://localhost:8080/"
        },
        "id": "aWKrrdrR298o",
        "outputId": "3f795c8f-bc16-4578-8631-073ee0e65407"
      },
      "execution_count": 90,
      "outputs": [
        {
          "output_type": "stream",
          "name": "stdout",
          "text": [
            "['interest_interval', 'termdays', 'good_bad_flag']\n",
            "['loanamount', 'loannumber', 'interest', 'loan_interval']\n"
          ]
        }
      ]
    },
    {
      "cell_type": "code",
      "source": [
        "#Hacemos one hot encoding\n",
        "ohe = OneHotEncoder(sparse = False)\n",
        "ohe_fit = ohe.fit(X[categorical_vars])\n",
        "X_ohe = pd.DataFrame(ohe.fit_transform(X[categorical_vars]))\n",
        "X_ohe.columns = pd.DataFrame(ohe_fit.get_feature_names())"
      ],
      "metadata": {
        "id": "Bzubhne13A2q"
      },
      "execution_count": 91,
      "outputs": []
    },
    {
      "cell_type": "code",
      "source": [
        "#Pegamos las variables numéricas\n",
        "X = pd.concat((X_ohe, X[numerical_vars].reset_index()), axis=1)"
      ],
      "metadata": {
        "id": "F0D0CjXB3UiE"
      },
      "execution_count": 92,
      "outputs": []
    },
    {
      "cell_type": "code",
      "source": [
        "#Comprobamos que no tenemos variables categóricasç\n",
        "X.dtypes"
      ],
      "metadata": {
        "colab": {
          "base_uri": "https://localhost:8080/"
        },
        "id": "87mM-a6c3hWM",
        "outputId": "4a2a9d30-d445-433e-9b04-73c7d74460e0"
      },
      "execution_count": 93,
      "outputs": [
        {
          "output_type": "execute_result",
          "data": {
            "text/plain": [
              "(x0_3000,)             float64\n",
              "(x0_mas de 3000,)      float64\n",
              "(x0_menos de 3000,)    float64\n",
              "(x1_30,)               float64\n",
              "(x1_Other,)            float64\n",
              "(x2_Bad,)              float64\n",
              "(x2_Good,)             float64\n",
              "index                    int64\n",
              "loanamount             float64\n",
              "loannumber               int64\n",
              "interest               float64\n",
              "loan_interval            int64\n",
              "dtype: object"
            ]
          },
          "metadata": {},
          "execution_count": 93
        }
      ]
    },
    {
      "cell_type": "code",
      "source": [
        "X=X.drop(columns=['index'])"
      ],
      "metadata": {
        "id": "e_wZ9VJK5fk6"
      },
      "execution_count": 94,
      "outputs": []
    },
    {
      "cell_type": "code",
      "source": [
        "from sklearn.preprocessing import StandardScaler\n",
        "sc = StandardScaler()\n",
        "\n",
        "X = sc.fit_transform(X)"
      ],
      "metadata": {
        "id": "Re3cty1B56PP"
      },
      "execution_count": 95,
      "outputs": []
    },
    {
      "cell_type": "code",
      "source": [
        "print(np.mean(X))\n",
        "print(np.var(X))"
      ],
      "metadata": {
        "colab": {
          "base_uri": "https://localhost:8080/"
        },
        "id": "VYNd6igl5-tr",
        "outputId": "cb8aaea7-7fab-4730-a454-151e4dc0f2b3"
      },
      "execution_count": 96,
      "outputs": [
        {
          "output_type": "stream",
          "name": "stdout",
          "text": [
            "-5.204391402429506e-18\n",
            "0.9090909090909093\n"
          ]
        }
      ]
    },
    {
      "cell_type": "code",
      "source": [
        "X_train, X_test, y_train, y_test = train_test_split(X, y, test_size=0.2, random_state=0)"
      ],
      "metadata": {
        "id": "pGiwALJ36Hh7"
      },
      "execution_count": 97,
      "outputs": []
    },
    {
      "cell_type": "code",
      "source": [
        "print(np.mean(X_train))\n",
        "print(np.var(X_train))"
      ],
      "metadata": {
        "colab": {
          "base_uri": "https://localhost:8080/"
        },
        "id": "54jUFE4G6IJJ",
        "outputId": "8d1f0d8a-5369-41dc-8bb3-97b7ff9f03d6"
      },
      "execution_count": 98,
      "outputs": [
        {
          "output_type": "stream",
          "name": "stdout",
          "text": [
            "-0.0013456476539092075\n",
            "0.9054305432654398\n"
          ]
        }
      ]
    },
    {
      "cell_type": "code",
      "source": [
        "from sklearn.decomposition import PCA"
      ],
      "metadata": {
        "id": "df3iYm4v6J-r"
      },
      "execution_count": 99,
      "outputs": []
    },
    {
      "cell_type": "code",
      "source": [
        "#PCA with all features\n",
        "\n",
        "\n",
        "pca = PCA()\n",
        "X_train1 = pca.fit_transform(X_train)\n",
        "X_test1 = pca.transform(X_test)"
      ],
      "metadata": {
        "id": "cLsviMHi6LWj"
      },
      "execution_count": 100,
      "outputs": []
    },
    {
      "cell_type": "code",
      "source": [
        "#returns the variance caused by each of the principal components.\n",
        "explained_variance = pca.explained_variance_ratio_\n",
        "print(explained_variance)"
      ],
      "metadata": {
        "colab": {
          "base_uri": "https://localhost:8080/"
        },
        "id": "s0BEHkt_6NAz",
        "outputId": "478a6934-f629-456a-98d0-1a278af6b6ff"
      },
      "execution_count": 101,
      "outputs": [
        {
          "output_type": "stream",
          "name": "stdout",
          "text": [
            "[3.68872810e-01 3.06253007e-01 1.94577071e-01 6.81704607e-02\n",
            " 4.53404313e-02 1.11126908e-02 5.67352873e-03 3.39415187e-31\n",
            " 2.41903181e-32 2.83304261e-33 0.00000000e+00]\n"
          ]
        }
      ]
    },
    {
      "cell_type": "code",
      "source": [
        "plt.plot(np.cumsum(pca.explained_variance_ratio_ * 100))\n",
        "plt.xlabel(\"Número de componentes\")\n",
        "plt.ylabel(\"% Varianza Acumulada\")\n",
        "plt.title('Porcentaje de varianza explicada acumulada')\n",
        "plt.show()"
      ],
      "metadata": {
        "colab": {
          "base_uri": "https://localhost:8080/",
          "height": 299
        },
        "id": "fcFMt6PQ6O0O",
        "outputId": "6364da1a-bf89-4e77-a616-98b8a088a12a"
      },
      "execution_count": 109,
      "outputs": [
        {
          "output_type": "display_data",
          "data": {
            "text/plain": [
              "<Figure size 432x288 with 1 Axes>"
            ],
            "image/png": "[encoded data removed]"
          },
          "metadata": {}
        }
      ]
    },
    {
      "cell_type": "code",
      "source": [
        ""
      ],
      "metadata": {
        "id": "FnvJR95n6Qmn"
      },
      "execution_count": null,
      "outputs": []
    }
  ]
}