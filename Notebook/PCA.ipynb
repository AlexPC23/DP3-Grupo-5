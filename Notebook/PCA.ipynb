{
  "nbformat": 4,
  "nbformat_minor": 0,
  "metadata": {
    "colab": {
      "name": "PCA.ipynb",
      "provenance": []
    },
    "kernelspec": {
      "name": "python3",
      "display_name": "Python 3"
    },
    "language_info": {
      "name": "python"
    }
  },
  "cells": [
    {
      "cell_type": "markdown",
      "source": [
        "# **PCA**"
      ],
      "metadata": {
        "id": "kE3DV6aDRU11"
      }
    },
    {
      "cell_type": "code",
      "execution_count": 124,
      "metadata": {
        "id": "txrqkIZswUC6"
      },
      "outputs": [],
      "source": [
        "import pandas as pd                  \n",
        "import numpy as np  \n",
        "from sklearn.model_selection import train_test_split\n",
        "import seaborn as sns\n",
        "from sklearn.metrics import confusion_matrix\n",
        "import matplotlib.pyplot as plt\n",
        "from sklearn.metrics import accuracy_score\n",
        "import numpy as np\n",
        "\n",
        "from sklearn.preprocessing import OneHotEncoder\n",
        "from sklearn.preprocessing import scale"
      ]
    },
    {
      "cell_type": "markdown",
      "source": [
        "Cargamos dataset y observamos las variables"
      ],
      "metadata": {
        "id": "C4Ja_YW9Rd4l"
      }
    },
    {
      "cell_type": "code",
      "source": [
        "df = pd.read_csv('/content/performance_clean.csv')"
      ],
      "metadata": {
        "id": "fFv_ONOOwdhu"
      },
      "execution_count": 125,
      "outputs": []
    },
    {
      "cell_type": "code",
      "source": [
        "df.head()"
      ],
      "metadata": {
        "colab": {
          "base_uri": "https://localhost:8080/",
          "height": 250
        },
        "id": "XLS758gGZs3l",
        "outputId": "4e03e02a-d9d4-4ddb-b813-338230bb8191"
      },
      "execution_count": 126,
      "outputs": [
        {
          "output_type": "execute_result",
          "data": {
            "text/plain": [
              "                         customerid  systemloanid  loannumber  loanamount  \\\n",
              "0  8a2a81a74ce8c05d014cfb32a0da1049     301994762          12     30000.0   \n",
              "1  8a85886e54beabf90154c0a29ae757c0     301965204           2     15000.0   \n",
              "2  8a8588f35438fe12015444567666018e     301966580           7     20000.0   \n",
              "3  8a85890754145ace015429211b513e16     301999343           3     10000.0   \n",
              "4  8a858970548359cc0154883481981866     301962360           9     40000.0   \n",
              "\n",
              "  termdays good_bad_flag  interest  loan_interval interest_interval  \n",
              "0       30          Good    4500.0          10000       mas de 3000  \n",
              "1       30          Good    2250.0          10000     menos de 3000  \n",
              "2    Other          Good    2250.0          10000     menos de 3000  \n",
              "3    Other          Good    1500.0          10000     menos de 3000  \n",
              "4       30          Good    4000.0          10000       mas de 3000  "
            ],
            "text/html": [
              "\n",
              "  <div id=\"df-8aee1b57-16b0-4fac-b624-43ce7e0dda5e\">\n",
              "    <div class=\"colab-df-container\">\n",
              "      <div>\n",
              "<style scoped>\n",
              "    .dataframe tbody tr th:only-of-type {\n",
              "        vertical-align: middle;\n",
              "    }\n",
              "\n",
              "    .dataframe tbody tr th {\n",
              "        vertical-align: top;\n",
              "    }\n",
              "\n",
              "    .dataframe thead th {\n",
              "        text-align: right;\n",
              "    }\n",
              "</style>\n",
              "<table border=\"1\" class=\"dataframe\">\n",
              "  <thead>\n",
              "    <tr style=\"text-align: right;\">\n",
              "      <th></th>\n",
              "      <th>customerid</th>\n",
              "      <th>systemloanid</th>\n",
              "      <th>loannumber</th>\n",
              "      <th>loanamount</th>\n",
              "      <th>termdays</th>\n",
              "      <th>good_bad_flag</th>\n",
              "      <th>interest</th>\n",
              "      <th>loan_interval</th>\n",
              "      <th>interest_interval</th>\n",
              "    </tr>\n",
              "  </thead>\n",
              "  <tbody>\n",
              "    <tr>\n",
              "      <th>0</th>\n",
              "      <td>8a2a81a74ce8c05d014cfb32a0da1049</td>\n",
              "      <td>301994762</td>\n",
              "      <td>12</td>\n",
              "      <td>30000.0</td>\n",
              "      <td>30</td>\n",
              "      <td>Good</td>\n",
              "      <td>4500.0</td>\n",
              "      <td>10000</td>\n",
              "      <td>mas de 3000</td>\n",
              "    </tr>\n",
              "    <tr>\n",
              "      <th>1</th>\n",
              "      <td>8a85886e54beabf90154c0a29ae757c0</td>\n",
              "      <td>301965204</td>\n",
              "      <td>2</td>\n",
              "      <td>15000.0</td>\n",
              "      <td>30</td>\n",
              "      <td>Good</td>\n",
              "      <td>2250.0</td>\n",
              "      <td>10000</td>\n",
              "      <td>menos de 3000</td>\n",
              "    </tr>\n",
              "    <tr>\n",
              "      <th>2</th>\n",
              "      <td>8a8588f35438fe12015444567666018e</td>\n",
              "      <td>301966580</td>\n",
              "      <td>7</td>\n",
              "      <td>20000.0</td>\n",
              "      <td>Other</td>\n",
              "      <td>Good</td>\n",
              "      <td>2250.0</td>\n",
              "      <td>10000</td>\n",
              "      <td>menos de 3000</td>\n",
              "    </tr>\n",
              "    <tr>\n",
              "      <th>3</th>\n",
              "      <td>8a85890754145ace015429211b513e16</td>\n",
              "      <td>301999343</td>\n",
              "      <td>3</td>\n",
              "      <td>10000.0</td>\n",
              "      <td>Other</td>\n",
              "      <td>Good</td>\n",
              "      <td>1500.0</td>\n",
              "      <td>10000</td>\n",
              "      <td>menos de 3000</td>\n",
              "    </tr>\n",
              "    <tr>\n",
              "      <th>4</th>\n",
              "      <td>8a858970548359cc0154883481981866</td>\n",
              "      <td>301962360</td>\n",
              "      <td>9</td>\n",
              "      <td>40000.0</td>\n",
              "      <td>30</td>\n",
              "      <td>Good</td>\n",
              "      <td>4000.0</td>\n",
              "      <td>10000</td>\n",
              "      <td>mas de 3000</td>\n",
              "    </tr>\n",
              "  </tbody>\n",
              "</table>\n",
              "</div>\n",
              "      <button class=\"colab-df-convert\" onclick=\"convertToInteractive('df-8aee1b57-16b0-4fac-b624-43ce7e0dda5e')\"\n",
              "              title=\"Convert this dataframe to an interactive table.\"\n",
              "              style=\"display:none;\">\n",
              "        \n",
              "  <svg xmlns=\"http://www.w3.org/2000/svg\" height=\"24px\"viewBox=\"0 0 24 24\"\n",
              "       width=\"24px\">\n",
              "    <path d=\"M0 0h24v24H0V0z\" fill=\"none\"/>\n",
              "    <path d=\"M18.56 5.44l.94 2.06.94-2.06 2.06-.94-2.06-.94-.94-2.06-.94 2.06-2.06.94zm-11 1L8.5 8.5l.94-2.06 2.06-.94-2.06-.94L8.5 2.5l-.94 2.06-2.06.94zm10 10l.94 2.06.94-2.06 2.06-.94-2.06-.94-.94-2.06-.94 2.06-2.06.94z\"/><path d=\"M17.41 7.96l-1.37-1.37c-.4-.4-.92-.59-1.43-.59-.52 0-1.04.2-1.43.59L10.3 9.45l-7.72 7.72c-.78.78-.78 2.05 0 2.83L4 21.41c.39.39.9.59 1.41.59.51 0 1.02-.2 1.41-.59l7.78-7.78 2.81-2.81c.8-.78.8-2.07 0-2.86zM5.41 20L4 18.59l7.72-7.72 1.47 1.35L5.41 20z\"/>\n",
              "  </svg>\n",
              "      </button>\n",
              "      \n",
              "  <style>\n",
              "    .colab-df-container {\n",
              "      display:flex;\n",
              "      flex-wrap:wrap;\n",
              "      gap: 12px;\n",
              "    }\n",
              "\n",
              "    .colab-df-convert {\n",
              "      background-color: #E8F0FE;\n",
              "      border: none;\n",
              "      border-radius: 50%;\n",
              "      cursor: pointer;\n",
              "      display: none;\n",
              "      fill: #1967D2;\n",
              "      height: 32px;\n",
              "      padding: 0 0 0 0;\n",
              "      width: 32px;\n",
              "    }\n",
              "\n",
              "    .colab-df-convert:hover {\n",
              "      background-color: #E2EBFA;\n",
              "      box-shadow: 0px 1px 2px rgba(60, 64, 67, 0.3), 0px 1px 3px 1px rgba(60, 64, 67, 0.15);\n",
              "      fill: #174EA6;\n",
              "    }\n",
              "\n",
              "    [theme=dark] .colab-df-convert {\n",
              "      background-color: #3B4455;\n",
              "      fill: #D2E3FC;\n",
              "    }\n",
              "\n",
              "    [theme=dark] .colab-df-convert:hover {\n",
              "      background-color: #434B5C;\n",
              "      box-shadow: 0px 1px 3px 1px rgba(0, 0, 0, 0.15);\n",
              "      filter: drop-shadow(0px 1px 2px rgba(0, 0, 0, 0.3));\n",
              "      fill: #FFFFFF;\n",
              "    }\n",
              "  </style>\n",
              "\n",
              "      <script>\n",
              "        const buttonEl =\n",
              "          document.querySelector('#df-8aee1b57-16b0-4fac-b624-43ce7e0dda5e button.colab-df-convert');\n",
              "        buttonEl.style.display =\n",
              "          google.colab.kernel.accessAllowed ? 'block' : 'none';\n",
              "\n",
              "        async function convertToInteractive(key) {\n",
              "          const element = document.querySelector('#df-8aee1b57-16b0-4fac-b624-43ce7e0dda5e');\n",
              "          const dataTable =\n",
              "            await google.colab.kernel.invokeFunction('convertToInteractive',\n",
              "                                                     [key], {});\n",
              "          if (!dataTable) return;\n",
              "\n",
              "          const docLinkHtml = 'Like what you see? Visit the ' +\n",
              "            '<a target=\"_blank\" href=https://colab.research.google.com/notebooks/data_table.ipynb>data table notebook</a>'\n",
              "            + ' to learn more about interactive tables.';\n",
              "          element.innerHTML = '';\n",
              "          dataTable['output_type'] = 'display_data';\n",
              "          await google.colab.output.renderOutput(dataTable, element);\n",
              "          const docLink = document.createElement('div');\n",
              "          docLink.innerHTML = docLinkHtml;\n",
              "          element.appendChild(docLink);\n",
              "        }\n",
              "      </script>\n",
              "    </div>\n",
              "  </div>\n",
              "  "
            ]
          },
          "metadata": {},
          "execution_count": 126
        }
      ]
    },
    {
      "cell_type": "code",
      "source": [
        "df.dtypes"
      ],
      "metadata": {
        "colab": {
          "base_uri": "https://localhost:8080/"
        },
        "id": "PNuQku5812P7",
        "outputId": "a767518f-29b5-4c51-cdbe-24b434966f94"
      },
      "execution_count": 127,
      "outputs": [
        {
          "output_type": "execute_result",
          "data": {
            "text/plain": [
              "customerid            object\n",
              "systemloanid           int64\n",
              "loannumber             int64\n",
              "loanamount           float64\n",
              "termdays              object\n",
              "good_bad_flag         object\n",
              "interest             float64\n",
              "loan_interval          int64\n",
              "interest_interval     object\n",
              "dtype: object"
            ]
          },
          "metadata": {},
          "execution_count": 127
        }
      ]
    },
    {
      "cell_type": "code",
      "source": [
        "df = df.drop(columns=['customerid'] + ['systemloanid'])\n",
        "y = df['good_bad_flag']"
      ],
      "metadata": {
        "id": "xTzGzAot2doO"
      },
      "execution_count": 128,
      "outputs": []
    },
    {
      "cell_type": "markdown",
      "source": [
        "Vemos cuales son las variables categóricas"
      ],
      "metadata": {
        "id": "yt61X-gR2zqF"
      }
    },
    {
      "cell_type": "code",
      "source": [
        "categorical_vars = set(df.columns[df.dtypes == object])\n",
        "numerical_vars = set(df.columns) - categorical_vars\n",
        "categorical_vars = list(categorical_vars)\n",
        "numerical_vars = list(numerical_vars)"
      ],
      "metadata": {
        "id": "dM1HJVHP2qWt"
      },
      "execution_count": 130,
      "outputs": []
    },
    {
      "cell_type": "code",
      "source": [
        "print(categorical_vars)\n",
        "print(numerical_vars)"
      ],
      "metadata": {
        "colab": {
          "base_uri": "https://localhost:8080/"
        },
        "id": "aWKrrdrR298o",
        "outputId": "0ad3a4b6-a0c8-40ea-9651-e5226331cb43"
      },
      "execution_count": 131,
      "outputs": [
        {
          "output_type": "stream",
          "name": "stdout",
          "text": [
            "['termdays', 'good_bad_flag', 'interest_interval']\n",
            "['loanamount', 'loannumber', 'loan_interval', 'interest']\n"
          ]
        }
      ]
    },
    {
      "cell_type": "markdown",
      "source": [
        "**Dummies**"
      ],
      "metadata": {
        "id": "dKz4Y5f01bZL"
      }
    },
    {
      "cell_type": "code",
      "source": [
        "#Generamos dummies de las variables categóricas:\n",
        "dummy_int = pd.get_dummies(df[['interest_interval']], drop_first=True)\n",
        "dummy_gf = pd.get_dummies(df[['good_bad_flag']], drop_first=True)\n",
        "dummy_td = pd.get_dummies(df[['termdays']], drop_first=True)\n",
        "#Añadimos las variables dummies y borramos las categóricas originales:\n",
        "df = pd.concat([df, dummy_int, dummy_gf, dummy_td], axis=1)\n",
        "df = df.drop(['interest_interval', 'good_bad_flag', 'termdays'], 1)"
      ],
      "metadata": {
        "colab": {
          "base_uri": "https://localhost:8080/"
        },
        "id": "CGt7MGeg1T-q",
        "outputId": "5de68b9b-d552-44e3-cb66-11b3ca28c396"
      },
      "execution_count": 132,
      "outputs": [
        {
          "output_type": "stream",
          "name": "stderr",
          "text": [
            "/usr/local/lib/python3.7/dist-packages/ipykernel_launcher.py:7: FutureWarning: In a future version of pandas all arguments of DataFrame.drop except for the argument 'labels' will be keyword-only\n",
            "  import sys\n"
          ]
        }
      ]
    },
    {
      "cell_type": "code",
      "source": [
        "df"
      ],
      "metadata": {
        "colab": {
          "base_uri": "https://localhost:8080/",
          "height": 485
        },
        "id": "aGJqkBd81fbd",
        "outputId": "b290b060-dfdc-40a7-f3f4-ddac9d0f5bb1"
      },
      "execution_count": 133,
      "outputs": [
        {
          "output_type": "execute_result",
          "data": {
            "text/plain": [
              "      loannumber  loanamount  interest  loan_interval  \\\n",
              "0             12     30000.0    4500.0          10000   \n",
              "1              2     15000.0    2250.0          10000   \n",
              "2              7     20000.0    2250.0          10000   \n",
              "3              3     10000.0    1500.0          10000   \n",
              "4              9     40000.0    4000.0          10000   \n",
              "...          ...         ...       ...            ...   \n",
              "4277           2     10000.0    3000.0          10000   \n",
              "4278           2     10000.0    3000.0          10000   \n",
              "4279           3     10000.0    1500.0          10000   \n",
              "4280           2     10000.0    3000.0          10000   \n",
              "4281           8     30000.0    4500.0          10000   \n",
              "\n",
              "      interest_interval_mas de 3000  interest_interval_menos de 3000  \\\n",
              "0                                 1                                0   \n",
              "1                                 0                                1   \n",
              "2                                 0                                1   \n",
              "3                                 0                                1   \n",
              "4                                 1                                0   \n",
              "...                             ...                              ...   \n",
              "4277                              0                                0   \n",
              "4278                              0                                0   \n",
              "4279                              0                                1   \n",
              "4280                              0                                0   \n",
              "4281                              1                                0   \n",
              "\n",
              "      good_bad_flag_Good  termdays_Other  \n",
              "0                      1               0  \n",
              "1                      1               0  \n",
              "2                      1               1  \n",
              "3                      1               1  \n",
              "4                      1               0  \n",
              "...                  ...             ...  \n",
              "4277                   0               0  \n",
              "4278                   0               0  \n",
              "4279                   0               1  \n",
              "4280                   0               0  \n",
              "4281                   0               0  \n",
              "\n",
              "[4282 rows x 8 columns]"
            ],
            "text/html": [
              "\n",
              "  <div id=\"df-0f3fbecd-d115-4d7b-8ac0-2821921ce586\">\n",
              "    <div class=\"colab-df-container\">\n",
              "      <div>\n",
              "<style scoped>\n",
              "    .dataframe tbody tr th:only-of-type {\n",
              "        vertical-align: middle;\n",
              "    }\n",
              "\n",
              "    .dataframe tbody tr th {\n",
              "        vertical-align: top;\n",
              "    }\n",
              "\n",
              "    .dataframe thead th {\n",
              "        text-align: right;\n",
              "    }\n",
              "</style>\n",
              "<table border=\"1\" class=\"dataframe\">\n",
              "  <thead>\n",
              "    <tr style=\"text-align: right;\">\n",
              "      <th></th>\n",
              "      <th>loannumber</th>\n",
              "      <th>loanamount</th>\n",
              "      <th>interest</th>\n",
              "      <th>loan_interval</th>\n",
              "      <th>interest_interval_mas de 3000</th>\n",
              "      <th>interest_interval_menos de 3000</th>\n",
              "      <th>good_bad_flag_Good</th>\n",
              "      <th>termdays_Other</th>\n",
              "    </tr>\n",
              "  </thead>\n",
              "  <tbody>\n",
              "    <tr>\n",
              "      <th>0</th>\n",
              "      <td>12</td>\n",
              "      <td>30000.0</td>\n",
              "      <td>4500.0</td>\n",
              "      <td>10000</td>\n",
              "      <td>1</td>\n",
              "      <td>0</td>\n",
              "      <td>1</td>\n",
              "      <td>0</td>\n",
              "    </tr>\n",
              "    <tr>\n",
              "      <th>1</th>\n",
              "      <td>2</td>\n",
              "      <td>15000.0</td>\n",
              "      <td>2250.0</td>\n",
              "      <td>10000</td>\n",
              "      <td>0</td>\n",
              "      <td>1</td>\n",
              "      <td>1</td>\n",
              "      <td>0</td>\n",
              "    </tr>\n",
              "    <tr>\n",
              "      <th>2</th>\n",
              "      <td>7</td>\n",
              "      <td>20000.0</td>\n",
              "      <td>2250.0</td>\n",
              "      <td>10000</td>\n",
              "      <td>0</td>\n",
              "      <td>1</td>\n",
              "      <td>1</td>\n",
              "      <td>1</td>\n",
              "    </tr>\n",
              "    <tr>\n",
              "      <th>3</th>\n",
              "      <td>3</td>\n",
              "      <td>10000.0</td>\n",
              "      <td>1500.0</td>\n",
              "      <td>10000</td>\n",
              "      <td>0</td>\n",
              "      <td>1</td>\n",
              "      <td>1</td>\n",
              "      <td>1</td>\n",
              "    </tr>\n",
              "    <tr>\n",
              "      <th>4</th>\n",
              "      <td>9</td>\n",
              "      <td>40000.0</td>\n",
              "      <td>4000.0</td>\n",
              "      <td>10000</td>\n",
              "      <td>1</td>\n",
              "      <td>0</td>\n",
              "      <td>1</td>\n",
              "      <td>0</td>\n",
              "    </tr>\n",
              "    <tr>\n",
              "      <th>...</th>\n",
              "      <td>...</td>\n",
              "      <td>...</td>\n",
              "      <td>...</td>\n",
              "      <td>...</td>\n",
              "      <td>...</td>\n",
              "      <td>...</td>\n",
              "      <td>...</td>\n",
              "      <td>...</td>\n",
              "    </tr>\n",
              "    <tr>\n",
              "      <th>4277</th>\n",
              "      <td>2</td>\n",
              "      <td>10000.0</td>\n",
              "      <td>3000.0</td>\n",
              "      <td>10000</td>\n",
              "      <td>0</td>\n",
              "      <td>0</td>\n",
              "      <td>0</td>\n",
              "      <td>0</td>\n",
              "    </tr>\n",
              "    <tr>\n",
              "      <th>4278</th>\n",
              "      <td>2</td>\n",
              "      <td>10000.0</td>\n",
              "      <td>3000.0</td>\n",
              "      <td>10000</td>\n",
              "      <td>0</td>\n",
              "      <td>0</td>\n",
              "      <td>0</td>\n",
              "      <td>0</td>\n",
              "    </tr>\n",
              "    <tr>\n",
              "      <th>4279</th>\n",
              "      <td>3</td>\n",
              "      <td>10000.0</td>\n",
              "      <td>1500.0</td>\n",
              "      <td>10000</td>\n",
              "      <td>0</td>\n",
              "      <td>1</td>\n",
              "      <td>0</td>\n",
              "      <td>1</td>\n",
              "    </tr>\n",
              "    <tr>\n",
              "      <th>4280</th>\n",
              "      <td>2</td>\n",
              "      <td>10000.0</td>\n",
              "      <td>3000.0</td>\n",
              "      <td>10000</td>\n",
              "      <td>0</td>\n",
              "      <td>0</td>\n",
              "      <td>0</td>\n",
              "      <td>0</td>\n",
              "    </tr>\n",
              "    <tr>\n",
              "      <th>4281</th>\n",
              "      <td>8</td>\n",
              "      <td>30000.0</td>\n",
              "      <td>4500.0</td>\n",
              "      <td>10000</td>\n",
              "      <td>1</td>\n",
              "      <td>0</td>\n",
              "      <td>0</td>\n",
              "      <td>0</td>\n",
              "    </tr>\n",
              "  </tbody>\n",
              "</table>\n",
              "<p>4282 rows × 8 columns</p>\n",
              "</div>\n",
              "      <button class=\"colab-df-convert\" onclick=\"convertToInteractive('df-0f3fbecd-d115-4d7b-8ac0-2821921ce586')\"\n",
              "              title=\"Convert this dataframe to an interactive table.\"\n",
              "              style=\"display:none;\">\n",
              "        \n",
              "  <svg xmlns=\"http://www.w3.org/2000/svg\" height=\"24px\"viewBox=\"0 0 24 24\"\n",
              "       width=\"24px\">\n",
              "    <path d=\"M0 0h24v24H0V0z\" fill=\"none\"/>\n",
              "    <path d=\"M18.56 5.44l.94 2.06.94-2.06 2.06-.94-2.06-.94-.94-2.06-.94 2.06-2.06.94zm-11 1L8.5 8.5l.94-2.06 2.06-.94-2.06-.94L8.5 2.5l-.94 2.06-2.06.94zm10 10l.94 2.06.94-2.06 2.06-.94-2.06-.94-.94-2.06-.94 2.06-2.06.94z\"/><path d=\"M17.41 7.96l-1.37-1.37c-.4-.4-.92-.59-1.43-.59-.52 0-1.04.2-1.43.59L10.3 9.45l-7.72 7.72c-.78.78-.78 2.05 0 2.83L4 21.41c.39.39.9.59 1.41.59.51 0 1.02-.2 1.41-.59l7.78-7.78 2.81-2.81c.8-.78.8-2.07 0-2.86zM5.41 20L4 18.59l7.72-7.72 1.47 1.35L5.41 20z\"/>\n",
              "  </svg>\n",
              "      </button>\n",
              "      \n",
              "  <style>\n",
              "    .colab-df-container {\n",
              "      display:flex;\n",
              "      flex-wrap:wrap;\n",
              "      gap: 12px;\n",
              "    }\n",
              "\n",
              "    .colab-df-convert {\n",
              "      background-color: #E8F0FE;\n",
              "      border: none;\n",
              "      border-radius: 50%;\n",
              "      cursor: pointer;\n",
              "      display: none;\n",
              "      fill: #1967D2;\n",
              "      height: 32px;\n",
              "      padding: 0 0 0 0;\n",
              "      width: 32px;\n",
              "    }\n",
              "\n",
              "    .colab-df-convert:hover {\n",
              "      background-color: #E2EBFA;\n",
              "      box-shadow: 0px 1px 2px rgba(60, 64, 67, 0.3), 0px 1px 3px 1px rgba(60, 64, 67, 0.15);\n",
              "      fill: #174EA6;\n",
              "    }\n",
              "\n",
              "    [theme=dark] .colab-df-convert {\n",
              "      background-color: #3B4455;\n",
              "      fill: #D2E3FC;\n",
              "    }\n",
              "\n",
              "    [theme=dark] .colab-df-convert:hover {\n",
              "      background-color: #434B5C;\n",
              "      box-shadow: 0px 1px 3px 1px rgba(0, 0, 0, 0.15);\n",
              "      filter: drop-shadow(0px 1px 2px rgba(0, 0, 0, 0.3));\n",
              "      fill: #FFFFFF;\n",
              "    }\n",
              "  </style>\n",
              "\n",
              "      <script>\n",
              "        const buttonEl =\n",
              "          document.querySelector('#df-0f3fbecd-d115-4d7b-8ac0-2821921ce586 button.colab-df-convert');\n",
              "        buttonEl.style.display =\n",
              "          google.colab.kernel.accessAllowed ? 'block' : 'none';\n",
              "\n",
              "        async function convertToInteractive(key) {\n",
              "          const element = document.querySelector('#df-0f3fbecd-d115-4d7b-8ac0-2821921ce586');\n",
              "          const dataTable =\n",
              "            await google.colab.kernel.invokeFunction('convertToInteractive',\n",
              "                                                     [key], {});\n",
              "          if (!dataTable) return;\n",
              "\n",
              "          const docLinkHtml = 'Like what you see? Visit the ' +\n",
              "            '<a target=\"_blank\" href=https://colab.research.google.com/notebooks/data_table.ipynb>data table notebook</a>'\n",
              "            + ' to learn more about interactive tables.';\n",
              "          element.innerHTML = '';\n",
              "          dataTable['output_type'] = 'display_data';\n",
              "          await google.colab.output.renderOutput(dataTable, element);\n",
              "          const docLink = document.createElement('div');\n",
              "          docLink.innerHTML = docLinkHtml;\n",
              "          element.appendChild(docLink);\n",
              "        }\n",
              "      </script>\n",
              "    </div>\n",
              "  </div>\n",
              "  "
            ]
          },
          "metadata": {},
          "execution_count": 133
        }
      ]
    },
    {
      "cell_type": "markdown",
      "source": [
        "Estandarizamos "
      ],
      "metadata": {
        "id": "95gM3_-zSsvb"
      }
    },
    {
      "cell_type": "code",
      "source": [
        "from sklearn.preprocessing import StandardScaler\n",
        "sc = StandardScaler()\n",
        "\n",
        "X = sc.fit_transform(df)"
      ],
      "metadata": {
        "id": "Re3cty1B56PP"
      },
      "execution_count": 134,
      "outputs": []
    },
    {
      "cell_type": "code",
      "source": [
        "print(np.mean(X))\n",
        "print(np.var(X))"
      ],
      "metadata": {
        "colab": {
          "base_uri": "https://localhost:8080/"
        },
        "id": "VYNd6igl5-tr",
        "outputId": "e348b4a9-7c8f-4ee8-98c8-d5c3228cf25e"
      },
      "execution_count": 135,
      "outputs": [
        {
          "output_type": "stream",
          "name": "stdout",
          "text": [
            "-1.1408176806050184e-17\n",
            "0.8750000000000001\n"
          ]
        }
      ]
    },
    {
      "cell_type": "code",
      "source": [
        "X_train, X_test, y_train, y_test = train_test_split(X, y, test_size=0.2, random_state=0)"
      ],
      "metadata": {
        "id": "pGiwALJ36Hh7"
      },
      "execution_count": 136,
      "outputs": []
    },
    {
      "cell_type": "code",
      "source": [
        "print(np.mean(X_train))\n",
        "print(np.var(X_train))"
      ],
      "metadata": {
        "colab": {
          "base_uri": "https://localhost:8080/"
        },
        "id": "54jUFE4G6IJJ",
        "outputId": "14b3f8d7-13bf-4a8e-dd9b-da1258a12ae5"
      },
      "execution_count": 138,
      "outputs": [
        {
          "output_type": "stream",
          "name": "stdout",
          "text": [
            "9.992712897968192e-05\n",
            "0.8709485372069611\n"
          ]
        }
      ]
    },
    {
      "cell_type": "markdown",
      "source": [
        "# **PCA**"
      ],
      "metadata": {
        "id": "Rx8KLvbeSgj8"
      }
    },
    {
      "cell_type": "code",
      "source": [
        "from sklearn.decomposition import PCA"
      ],
      "metadata": {
        "id": "df3iYm4v6J-r"
      },
      "execution_count": 139,
      "outputs": []
    },
    {
      "cell_type": "code",
      "source": [
        "pca = PCA()\n",
        "X_train1 = pca.fit_transform(X_train)\n",
        "X_test1 = pca.transform(X_test)\n"
      ],
      "metadata": {
        "id": "cLsviMHi6LWj"
      },
      "execution_count": 140,
      "outputs": []
    },
    {
      "cell_type": "code",
      "source": [
        "#returns the variance caused by each of the principal components.\n",
        "explained_variance = pca.explained_variance_ratio_\n",
        "print(explained_variance)"
      ],
      "metadata": {
        "colab": {
          "base_uri": "https://localhost:8080/"
        },
        "id": "s0BEHkt_6NAz",
        "outputId": "86d060cc-c9d3-49f5-9de1-d1486e3cb44b"
      },
      "execution_count": 141,
      "outputs": [
        {
          "output_type": "stream",
          "name": "stdout",
          "text": [
            "[4.89220126e-01 2.30584577e-01 1.41005099e-01 8.10055287e-02\n",
            " 3.65091320e-02 1.48552347e-02 6.82030181e-03 2.48309672e-36]\n"
          ]
        }
      ]
    },
    {
      "cell_type": "code",
      "source": [
        "plt.plot(np.cumsum(pca.explained_variance_ratio_ * 100))\n",
        "plt.xlabel(\"Número de componentes\")\n",
        "plt.ylabel(\"% Varianza Acumulada\")\n",
        "plt.title('Porcentaje de varianza explicada acumulada')\n",
        "plt.show()"
      ],
      "metadata": {
        "colab": {
          "base_uri": "https://localhost:8080/",
          "height": 296
        },
        "id": "fcFMt6PQ6O0O",
        "outputId": "058a6e2d-fcca-4ba0-e40b-9e2e83b4cef1"
      },
      "execution_count": 151,
      "outputs": [
        {
          "output_type": "display_data",
          "data": {
            "text/plain": [
              "<Figure size 432x288 with 1 Axes>"
            ],
            "image/png": "[encoded data removed]"
          },
          "metadata": {
            "needs_background": "light"
          }
        }
      ]
    },
    {
      "cell_type": "markdown",
      "source": [
        "# **Feature importance (Con PCA)**"
      ],
      "metadata": {
        "id": "zsVeyta13Usq"
      }
    },
    {
      "cell_type": "code",
      "source": [
        "loadings = pd.DataFrame(\n",
        "    data=pca.components_.T * np.sqrt(pca.explained_variance_), \n",
        "    columns=[f'PC{i}' for i in range(1, len(df.columns) + 1)],\n",
        "    index=df.columns\n",
        ")\n",
        "loadings.head()"
      ],
      "metadata": {
        "colab": {
          "base_uri": "https://localhost:8080/",
          "height": 206
        },
        "id": "Vz8JEMSqo4LB",
        "outputId": "e8344d31-d21a-4776-8625-ac2b7fb17527"
      },
      "execution_count": 150,
      "outputs": [
        {
          "output_type": "execute_result",
          "data": {
            "text/plain": [
              "                                    PC1       PC2           PC3           PC4  \\\n",
              "loannumber                     0.725910  0.411016  3.722924e-02  4.592788e-01   \n",
              "loanamount                     0.886913  0.359208  2.802889e-02  1.027033e-01   \n",
              "interest                       0.855691 -0.001469  1.110690e-01 -4.545630e-01   \n",
              "loan_interval                  0.000000 -0.000000  3.439353e-17 -8.341931e-17   \n",
              "interest_interval_mas de 3000  0.902984  0.146648  5.492352e-03 -7.385324e-02   \n",
              "\n",
              "                                        PC5           PC6           PC7  \\\n",
              "loannumber                     2.244109e-01  1.286043e-01 -1.903843e-02   \n",
              "loanamount                    -3.819038e-02 -2.604399e-01  2.026924e-02   \n",
              "interest                       1.662234e-01  6.554424e-02  1.104445e-01   \n",
              "loan_interval                  2.800142e-17  4.286771e-16  1.167907e-15   \n",
              "interest_interval_mas de 3000 -3.772418e-01  1.153784e-01 -4.870722e-02   \n",
              "\n",
              "                                        PC8  \n",
              "loannumber                    -0.000000e+00  \n",
              "loanamount                     2.018270e-33  \n",
              "interest                      -1.215229e-32  \n",
              "loan_interval                  4.160024e-18  \n",
              "interest_interval_mas de 3000  3.315258e-33  "
            ],
            "text/html": [
              "\n",
              "  <div id=\"df-3a1bb7ca-cd8d-4da4-8860-5c34964a6243\">\n",
              "    <div class=\"colab-df-container\">\n",
              "      <div>\n",
              "<style scoped>\n",
              "    .dataframe tbody tr th:only-of-type {\n",
              "        vertical-align: middle;\n",
              "    }\n",
              "\n",
              "    .dataframe tbody tr th {\n",
              "        vertical-align: top;\n",
              "    }\n",
              "\n",
              "    .dataframe thead th {\n",
              "        text-align: right;\n",
              "    }\n",
              "</style>\n",
              "<table border=\"1\" class=\"dataframe\">\n",
              "  <thead>\n",
              "    <tr style=\"text-align: right;\">\n",
              "      <th></th>\n",
              "      <th>PC1</th>\n",
              "      <th>PC2</th>\n",
              "      <th>PC3</th>\n",
              "      <th>PC4</th>\n",
              "      <th>PC5</th>\n",
              "      <th>PC6</th>\n",
              "      <th>PC7</th>\n",
              "      <th>PC8</th>\n",
              "    </tr>\n",
              "  </thead>\n",
              "  <tbody>\n",
              "    <tr>\n",
              "      <th>loannumber</th>\n",
              "      <td>0.725910</td>\n",
              "      <td>0.411016</td>\n",
              "      <td>3.722924e-02</td>\n",
              "      <td>4.592788e-01</td>\n",
              "      <td>2.244109e-01</td>\n",
              "      <td>1.286043e-01</td>\n",
              "      <td>-1.903843e-02</td>\n",
              "      <td>-0.000000e+00</td>\n",
              "    </tr>\n",
              "    <tr>\n",
              "      <th>loanamount</th>\n",
              "      <td>0.886913</td>\n",
              "      <td>0.359208</td>\n",
              "      <td>2.802889e-02</td>\n",
              "      <td>1.027033e-01</td>\n",
              "      <td>-3.819038e-02</td>\n",
              "      <td>-2.604399e-01</td>\n",
              "      <td>2.026924e-02</td>\n",
              "      <td>2.018270e-33</td>\n",
              "    </tr>\n",
              "    <tr>\n",
              "      <th>interest</th>\n",
              "      <td>0.855691</td>\n",
              "      <td>-0.001469</td>\n",
              "      <td>1.110690e-01</td>\n",
              "      <td>-4.545630e-01</td>\n",
              "      <td>1.662234e-01</td>\n",
              "      <td>6.554424e-02</td>\n",
              "      <td>1.104445e-01</td>\n",
              "      <td>-1.215229e-32</td>\n",
              "    </tr>\n",
              "    <tr>\n",
              "      <th>loan_interval</th>\n",
              "      <td>0.000000</td>\n",
              "      <td>-0.000000</td>\n",
              "      <td>3.439353e-17</td>\n",
              "      <td>-8.341931e-17</td>\n",
              "      <td>2.800142e-17</td>\n",
              "      <td>4.286771e-16</td>\n",
              "      <td>1.167907e-15</td>\n",
              "      <td>4.160024e-18</td>\n",
              "    </tr>\n",
              "    <tr>\n",
              "      <th>interest_interval_mas de 3000</th>\n",
              "      <td>0.902984</td>\n",
              "      <td>0.146648</td>\n",
              "      <td>5.492352e-03</td>\n",
              "      <td>-7.385324e-02</td>\n",
              "      <td>-3.772418e-01</td>\n",
              "      <td>1.153784e-01</td>\n",
              "      <td>-4.870722e-02</td>\n",
              "      <td>3.315258e-33</td>\n",
              "    </tr>\n",
              "  </tbody>\n",
              "</table>\n",
              "</div>\n",
              "      <button class=\"colab-df-convert\" onclick=\"convertToInteractive('df-3a1bb7ca-cd8d-4da4-8860-5c34964a6243')\"\n",
              "              title=\"Convert this dataframe to an interactive table.\"\n",
              "              style=\"display:none;\">\n",
              "        \n",
              "  <svg xmlns=\"http://www.w3.org/2000/svg\" height=\"24px\"viewBox=\"0 0 24 24\"\n",
              "       width=\"24px\">\n",
              "    <path d=\"M0 0h24v24H0V0z\" fill=\"none\"/>\n",
              "    <path d=\"M18.56 5.44l.94 2.06.94-2.06 2.06-.94-2.06-.94-.94-2.06-.94 2.06-2.06.94zm-11 1L8.5 8.5l.94-2.06 2.06-.94-2.06-.94L8.5 2.5l-.94 2.06-2.06.94zm10 10l.94 2.06.94-2.06 2.06-.94-2.06-.94-.94-2.06-.94 2.06-2.06.94z\"/><path d=\"M17.41 7.96l-1.37-1.37c-.4-.4-.92-.59-1.43-.59-.52 0-1.04.2-1.43.59L10.3 9.45l-7.72 7.72c-.78.78-.78 2.05 0 2.83L4 21.41c.39.39.9.59 1.41.59.51 0 1.02-.2 1.41-.59l7.78-7.78 2.81-2.81c.8-.78.8-2.07 0-2.86zM5.41 20L4 18.59l7.72-7.72 1.47 1.35L5.41 20z\"/>\n",
              "  </svg>\n",
              "      </button>\n",
              "      \n",
              "  <style>\n",
              "    .colab-df-container {\n",
              "      display:flex;\n",
              "      flex-wrap:wrap;\n",
              "      gap: 12px;\n",
              "    }\n",
              "\n",
              "    .colab-df-convert {\n",
              "      background-color: #E8F0FE;\n",
              "      border: none;\n",
              "      border-radius: 50%;\n",
              "      cursor: pointer;\n",
              "      display: none;\n",
              "      fill: #1967D2;\n",
              "      height: 32px;\n",
              "      padding: 0 0 0 0;\n",
              "      width: 32px;\n",
              "    }\n",
              "\n",
              "    .colab-df-convert:hover {\n",
              "      background-color: #E2EBFA;\n",
              "      box-shadow: 0px 1px 2px rgba(60, 64, 67, 0.3), 0px 1px 3px 1px rgba(60, 64, 67, 0.15);\n",
              "      fill: #174EA6;\n",
              "    }\n",
              "\n",
              "    [theme=dark] .colab-df-convert {\n",
              "      background-color: #3B4455;\n",
              "      fill: #D2E3FC;\n",
              "    }\n",
              "\n",
              "    [theme=dark] .colab-df-convert:hover {\n",
              "      background-color: #434B5C;\n",
              "      box-shadow: 0px 1px 3px 1px rgba(0, 0, 0, 0.15);\n",
              "      filter: drop-shadow(0px 1px 2px rgba(0, 0, 0, 0.3));\n",
              "      fill: #FFFFFF;\n",
              "    }\n",
              "  </style>\n",
              "\n",
              "      <script>\n",
              "        const buttonEl =\n",
              "          document.querySelector('#df-3a1bb7ca-cd8d-4da4-8860-5c34964a6243 button.colab-df-convert');\n",
              "        buttonEl.style.display =\n",
              "          google.colab.kernel.accessAllowed ? 'block' : 'none';\n",
              "\n",
              "        async function convertToInteractive(key) {\n",
              "          const element = document.querySelector('#df-3a1bb7ca-cd8d-4da4-8860-5c34964a6243');\n",
              "          const dataTable =\n",
              "            await google.colab.kernel.invokeFunction('convertToInteractive',\n",
              "                                                     [key], {});\n",
              "          if (!dataTable) return;\n",
              "\n",
              "          const docLinkHtml = 'Like what you see? Visit the ' +\n",
              "            '<a target=\"_blank\" href=https://colab.research.google.com/notebooks/data_table.ipynb>data table notebook</a>'\n",
              "            + ' to learn more about interactive tables.';\n",
              "          element.innerHTML = '';\n",
              "          dataTable['output_type'] = 'display_data';\n",
              "          await google.colab.output.renderOutput(dataTable, element);\n",
              "          const docLink = document.createElement('div');\n",
              "          docLink.innerHTML = docLinkHtml;\n",
              "          element.appendChild(docLink);\n",
              "        }\n",
              "      </script>\n",
              "    </div>\n",
              "  </div>\n",
              "  "
            ]
          },
          "metadata": {},
          "execution_count": 150
        }
      ]
    },
    {
      "cell_type": "code",
      "source": [
        "pc1_loadings = loadings.sort_values(by='PC1', ascending=False)[['PC1']]\n",
        "pc1_loadings = pc1_loadings.reset_index()\n",
        "pc1_loadings.columns = ['Attribute', 'CorrelationWithPC1']\n",
        "\n",
        "plt.bar(x=pc1_loadings['Attribute'], height=pc1_loadings['CorrelationWithPC1'], color='#087E8B')\n",
        "plt.title('PCA loading scores (first principal component)', size=20)\n",
        "plt.xticks(rotation='vertical')\n",
        "plt.show()"
      ],
      "metadata": {
        "colab": {
          "base_uri": "https://localhost:8080/",
          "height": 440
        },
        "id": "Ag8OFLdM3FOd",
        "outputId": "4c412e19-2d1d-4046-e77f-ac6325558ac1"
      },
      "execution_count": 152,
      "outputs": [
        {
          "output_type": "display_data",
          "data": {
            "text/plain": [
              "<Figure size 432x288 with 1 Axes>"
            ],
            "image/png": "[encoded data removed]"
          },
          "metadata": {
            "needs_background": "light"
          }
        }
      ]
    }
  ]
}