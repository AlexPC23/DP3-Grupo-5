{
  "nbformat": 4,
  "nbformat_minor": 0,
  "metadata": {
    "colab": {
      "name": "merged_data.ipynb",
      "provenance": []
    },
    "kernelspec": {
      "name": "python3",
      "display_name": "Python 3"
    },
    "language_info": {
      "name": "python"
    }
  },
  "cells": [
    {
      "cell_type": "markdown",
      "source": [
        "# **DATA MERGE**"
      ],
      "metadata": {
        "id": "vmmxRss7IY0z"
      }
    },
    {
      "cell_type": "code",
      "source": [
        "# importing necessary libraries\n",
        "import pandas as pd\n",
        "from datetime import date\n",
        "from datetime import datetime\n",
        "import numpy as np\n",
        "import seaborn as sns #visualisation\n",
        "import matplotlib.pyplot as plt #visualisation\n",
        "%matplotlib inline \n",
        "sns.set(color_codes=True)"
      ],
      "metadata": {
        "id": "VT2aOeHeIvky"
      },
      "execution_count": 65,
      "outputs": []
    },
    {
      "cell_type": "markdown",
      "source": [
        "## Importamos datasets"
      ],
      "metadata": {
        "id": "6qvuOks8KyjC"
      }
    },
    {
      "cell_type": "code",
      "execution_count": 66,
      "metadata": {
        "colab": {
          "base_uri": "https://localhost:8080/"
        },
        "id": "MskH4JYdIX-y",
        "outputId": "a0bff2c1-3023-4818-a478-e1b17c826eef"
      },
      "outputs": [
        {
          "output_type": "stream",
          "name": "stdout",
          "text": [
            "<class 'pandas.core.frame.DataFrame'>\n",
            "RangeIndex: 4089 entries, 0 to 4088\n",
            "Data columns (total 5 columns):\n",
            " #   Column             Non-Null Count  Dtype \n",
            "---  ------             --------------  ----- \n",
            " 0   customerid         4089 non-null   object\n",
            " 1   bank_name_clients  4089 non-null   object\n",
            " 2   age                4089 non-null   int64 \n",
            " 3   state              4089 non-null   object\n",
            " 4   age_interval       4085 non-null   object\n",
            "dtypes: int64(1), object(4)\n",
            "memory usage: 159.9+ KB\n"
          ]
        }
      ],
      "source": [
        "demogr= pd.read_csv('/content/train_datos_demograficos_cleandef.csv')\n",
        "demogr.info()"
      ]
    },
    {
      "cell_type": "code",
      "source": [
        "performance= pd.read_csv('/content/train_performance_cleandef.csv')\n",
        "performance.info()"
      ],
      "metadata": {
        "colab": {
          "base_uri": "https://localhost:8080/"
        },
        "id": "Mhu7XLJfIh1V",
        "outputId": "0ce5902f-3434-4c07-9c38-ce537f7d9fff"
      },
      "execution_count": 67,
      "outputs": [
        {
          "output_type": "stream",
          "name": "stdout",
          "text": [
            "<class 'pandas.core.frame.DataFrame'>\n",
            "RangeIndex: 4368 entries, 0 to 4367\n",
            "Data columns (total 9 columns):\n",
            " #   Column             Non-Null Count  Dtype  \n",
            "---  ------             --------------  -----  \n",
            " 0   customerid         4368 non-null   object \n",
            " 1   systemloanid       4368 non-null   int64  \n",
            " 2   loannumber         4368 non-null   object \n",
            " 3   loanamount         4368 non-null   float64\n",
            " 4   termdays           4368 non-null   object \n",
            " 5   interest           4368 non-null   float64\n",
            " 6   loan_interval      4368 non-null   object \n",
            " 7   interest_interval  4368 non-null   object \n",
            " 8   good_bad_flag      4368 non-null   object \n",
            "dtypes: float64(2), int64(1), object(6)\n",
            "memory usage: 307.2+ KB\n"
          ]
        }
      ]
    },
    {
      "cell_type": "code",
      "source": [
        "prevloan= pd.read_csv('/content/train_prevloan_cleandef.csv')\n",
        "prevloan.info()"
      ],
      "metadata": {
        "colab": {
          "base_uri": "https://localhost:8080/"
        },
        "id": "oKoZjQbWIiVl",
        "outputId": "0baa2a34-8ec9-4b80-eaf9-eb464adf90d6"
      },
      "execution_count": 68,
      "outputs": [
        {
          "output_type": "stream",
          "name": "stdout",
          "text": [
            "<class 'pandas.core.frame.DataFrame'>\n",
            "RangeIndex: 17971 entries, 0 to 17970\n",
            "Data columns (total 8 columns):\n",
            " #   Column              Non-Null Count  Dtype  \n",
            "---  ------              --------------  -----  \n",
            " 0   customerid          17971 non-null  object \n",
            " 1   systemloanid        17971 non-null  int64  \n",
            " 2   loannumber          17971 non-null  int64  \n",
            " 3   loanamount          17971 non-null  float64\n",
            " 4   termdays            17971 non-null  object \n",
            " 5   payment_span_hours  17971 non-null  int64  \n",
            " 6   active_span_days    17971 non-null  int64  \n",
            " 7   interest            17971 non-null  float64\n",
            "dtypes: float64(2), int64(4), object(2)\n",
            "memory usage: 1.1+ MB\n"
          ]
        }
      ]
    },
    {
      "cell_type": "markdown",
      "source": [
        "##Extraemos data relevante de Prevloan dataset"
      ],
      "metadata": {
        "id": "GLXyNnAeKn8m"
      }
    },
    {
      "cell_type": "markdown",
      "source": [
        "### Avg Loan Amount"
      ],
      "metadata": {
        "id": "_esoQ1KwVY6D"
      }
    },
    {
      "cell_type": "code",
      "source": [
        "df_loanamount = prevloan[[\"customerid\",\"loanamount\"]]\n",
        "avg_loanamount = df_loanamount.groupby(\"customerid\", as_index=False).mean()\n",
        "avg_loanamount.columns= [\"customerid\", \"avg_loanamount\"]"
      ],
      "metadata": {
        "id": "PMe5Pg6dUJur"
      },
      "execution_count": 69,
      "outputs": []
    },
    {
      "cell_type": "code",
      "source": [
        "avg_loanamount.head()"
      ],
      "metadata": {
        "colab": {
          "base_uri": "https://localhost:8080/",
          "height": 0
        },
        "id": "4zEFJbxOVIB3",
        "outputId": "895b50cd-619b-44ef-d4f4-066b696db0d7"
      },
      "execution_count": 70,
      "outputs": [
        {
          "output_type": "execute_result",
          "data": {
            "text/plain": [
              "                         customerid  avg_loanamount\n",
              "0  8a1088a0484472eb01484669e3ce4e0b    10000.000000\n",
              "1  8a1a1e7e4f707f8b014f797718316cad    17500.000000\n",
              "2  8a1a32fc49b632520149c3b8fdf85139    12857.142857\n",
              "3  8a1eb5ba49a682300149c3c068b806c7    16250.000000\n",
              "4  8a1edbf14734127f0147356fdb1b1eb2    10000.000000"
            ],
            "text/html": [
              "\n",
              "  <div id=\"df-3034216c-729c-44b0-8f65-6711adec5a4f\">\n",
              "    <div class=\"colab-df-container\">\n",
              "      <div>\n",
              "<style scoped>\n",
              "    .dataframe tbody tr th:only-of-type {\n",
              "        vertical-align: middle;\n",
              "    }\n",
              "\n",
              "    .dataframe tbody tr th {\n",
              "        vertical-align: top;\n",
              "    }\n",
              "\n",
              "    .dataframe thead th {\n",
              "        text-align: right;\n",
              "    }\n",
              "</style>\n",
              "<table border=\"1\" class=\"dataframe\">\n",
              "  <thead>\n",
              "    <tr style=\"text-align: right;\">\n",
              "      <th></th>\n",
              "      <th>customerid</th>\n",
              "      <th>avg_loanamount</th>\n",
              "    </tr>\n",
              "  </thead>\n",
              "  <tbody>\n",
              "    <tr>\n",
              "      <th>0</th>\n",
              "      <td>8a1088a0484472eb01484669e3ce4e0b</td>\n",
              "      <td>10000.000000</td>\n",
              "    </tr>\n",
              "    <tr>\n",
              "      <th>1</th>\n",
              "      <td>8a1a1e7e4f707f8b014f797718316cad</td>\n",
              "      <td>17500.000000</td>\n",
              "    </tr>\n",
              "    <tr>\n",
              "      <th>2</th>\n",
              "      <td>8a1a32fc49b632520149c3b8fdf85139</td>\n",
              "      <td>12857.142857</td>\n",
              "    </tr>\n",
              "    <tr>\n",
              "      <th>3</th>\n",
              "      <td>8a1eb5ba49a682300149c3c068b806c7</td>\n",
              "      <td>16250.000000</td>\n",
              "    </tr>\n",
              "    <tr>\n",
              "      <th>4</th>\n",
              "      <td>8a1edbf14734127f0147356fdb1b1eb2</td>\n",
              "      <td>10000.000000</td>\n",
              "    </tr>\n",
              "  </tbody>\n",
              "</table>\n",
              "</div>\n",
              "      <button class=\"colab-df-convert\" onclick=\"convertToInteractive('df-3034216c-729c-44b0-8f65-6711adec5a4f')\"\n",
              "              title=\"Convert this dataframe to an interactive table.\"\n",
              "              style=\"display:none;\">\n",
              "        \n",
              "  <svg xmlns=\"http://www.w3.org/2000/svg\" height=\"24px\"viewBox=\"0 0 24 24\"\n",
              "       width=\"24px\">\n",
              "    <path d=\"M0 0h24v24H0V0z\" fill=\"none\"/>\n",
              "    <path d=\"M18.56 5.44l.94 2.06.94-2.06 2.06-.94-2.06-.94-.94-2.06-.94 2.06-2.06.94zm-11 1L8.5 8.5l.94-2.06 2.06-.94-2.06-.94L8.5 2.5l-.94 2.06-2.06.94zm10 10l.94 2.06.94-2.06 2.06-.94-2.06-.94-.94-2.06-.94 2.06-2.06.94z\"/><path d=\"M17.41 7.96l-1.37-1.37c-.4-.4-.92-.59-1.43-.59-.52 0-1.04.2-1.43.59L10.3 9.45l-7.72 7.72c-.78.78-.78 2.05 0 2.83L4 21.41c.39.39.9.59 1.41.59.51 0 1.02-.2 1.41-.59l7.78-7.78 2.81-2.81c.8-.78.8-2.07 0-2.86zM5.41 20L4 18.59l7.72-7.72 1.47 1.35L5.41 20z\"/>\n",
              "  </svg>\n",
              "      </button>\n",
              "      \n",
              "  <style>\n",
              "    .colab-df-container {\n",
              "      display:flex;\n",
              "      flex-wrap:wrap;\n",
              "      gap: 12px;\n",
              "    }\n",
              "\n",
              "    .colab-df-convert {\n",
              "      background-color: #E8F0FE;\n",
              "      border: none;\n",
              "      border-radius: 50%;\n",
              "      cursor: pointer;\n",
              "      display: none;\n",
              "      fill: #1967D2;\n",
              "      height: 32px;\n",
              "      padding: 0 0 0 0;\n",
              "      width: 32px;\n",
              "    }\n",
              "\n",
              "    .colab-df-convert:hover {\n",
              "      background-color: #E2EBFA;\n",
              "      box-shadow: 0px 1px 2px rgba(60, 64, 67, 0.3), 0px 1px 3px 1px rgba(60, 64, 67, 0.15);\n",
              "      fill: #174EA6;\n",
              "    }\n",
              "\n",
              "    [theme=dark] .colab-df-convert {\n",
              "      background-color: #3B4455;\n",
              "      fill: #D2E3FC;\n",
              "    }\n",
              "\n",
              "    [theme=dark] .colab-df-convert:hover {\n",
              "      background-color: #434B5C;\n",
              "      box-shadow: 0px 1px 3px 1px rgba(0, 0, 0, 0.15);\n",
              "      filter: drop-shadow(0px 1px 2px rgba(0, 0, 0, 0.3));\n",
              "      fill: #FFFFFF;\n",
              "    }\n",
              "  </style>\n",
              "\n",
              "      <script>\n",
              "        const buttonEl =\n",
              "          document.querySelector('#df-3034216c-729c-44b0-8f65-6711adec5a4f button.colab-df-convert');\n",
              "        buttonEl.style.display =\n",
              "          google.colab.kernel.accessAllowed ? 'block' : 'none';\n",
              "\n",
              "        async function convertToInteractive(key) {\n",
              "          const element = document.querySelector('#df-3034216c-729c-44b0-8f65-6711adec5a4f');\n",
              "          const dataTable =\n",
              "            await google.colab.kernel.invokeFunction('convertToInteractive',\n",
              "                                                     [key], {});\n",
              "          if (!dataTable) return;\n",
              "\n",
              "          const docLinkHtml = 'Like what you see? Visit the ' +\n",
              "            '<a target=\"_blank\" href=https://colab.research.google.com/notebooks/data_table.ipynb>data table notebook</a>'\n",
              "            + ' to learn more about interactive tables.';\n",
              "          element.innerHTML = '';\n",
              "          dataTable['output_type'] = 'display_data';\n",
              "          await google.colab.output.renderOutput(dataTable, element);\n",
              "          const docLink = document.createElement('div');\n",
              "          docLink.innerHTML = docLinkHtml;\n",
              "          element.appendChild(docLink);\n",
              "        }\n",
              "      </script>\n",
              "    </div>\n",
              "  </div>\n",
              "  "
            ]
          },
          "metadata": {},
          "execution_count": 70
        }
      ]
    },
    {
      "cell_type": "markdown",
      "source": [
        "### Avg Payment Span in hours"
      ],
      "metadata": {
        "id": "URHaSpw8Venw"
      }
    },
    {
      "cell_type": "code",
      "source": [
        "df_paym_span = prevloan[[\"customerid\",\"payment_span_hours\"]]\n",
        "avg_paym_span = df_paym_span.groupby(\"customerid\", as_index=False).mean()\n",
        "avg_paym_span.columns= [\"customerid\", \"avg_paym_span_hrs\"]"
      ],
      "metadata": {
        "id": "1uLxcfABVnT1"
      },
      "execution_count": 71,
      "outputs": []
    },
    {
      "cell_type": "code",
      "source": [
        "avg_paym_span.head()"
      ],
      "metadata": {
        "colab": {
          "base_uri": "https://localhost:8080/",
          "height": 0
        },
        "id": "lL-UEf-1VnPn",
        "outputId": "ed328bb1-b41b-4328-962f-757ba9b246ba"
      },
      "execution_count": 72,
      "outputs": [
        {
          "output_type": "execute_result",
          "data": {
            "text/plain": [
              "                         customerid  avg_paym_span_hrs\n",
              "0  8a1088a0484472eb01484669e3ce4e0b          20.000000\n",
              "1  8a1a1e7e4f707f8b014f797718316cad          14.750000\n",
              "2  8a1a32fc49b632520149c3b8fdf85139          12.714286\n",
              "3  8a1eb5ba49a682300149c3c068b806c7          14.000000\n",
              "4  8a1edbf14734127f0147356fdb1b1eb2          11.500000"
            ],
            "text/html": [
              "\n",
              "  <div id=\"df-89a6515b-e801-432c-9b26-6223fb1be2ea\">\n",
              "    <div class=\"colab-df-container\">\n",
              "      <div>\n",
              "<style scoped>\n",
              "    .dataframe tbody tr th:only-of-type {\n",
              "        vertical-align: middle;\n",
              "    }\n",
              "\n",
              "    .dataframe tbody tr th {\n",
              "        vertical-align: top;\n",
              "    }\n",
              "\n",
              "    .dataframe thead th {\n",
              "        text-align: right;\n",
              "    }\n",
              "</style>\n",
              "<table border=\"1\" class=\"dataframe\">\n",
              "  <thead>\n",
              "    <tr style=\"text-align: right;\">\n",
              "      <th></th>\n",
              "      <th>customerid</th>\n",
              "      <th>avg_paym_span_hrs</th>\n",
              "    </tr>\n",
              "  </thead>\n",
              "  <tbody>\n",
              "    <tr>\n",
              "      <th>0</th>\n",
              "      <td>8a1088a0484472eb01484669e3ce4e0b</td>\n",
              "      <td>20.000000</td>\n",
              "    </tr>\n",
              "    <tr>\n",
              "      <th>1</th>\n",
              "      <td>8a1a1e7e4f707f8b014f797718316cad</td>\n",
              "      <td>14.750000</td>\n",
              "    </tr>\n",
              "    <tr>\n",
              "      <th>2</th>\n",
              "      <td>8a1a32fc49b632520149c3b8fdf85139</td>\n",
              "      <td>12.714286</td>\n",
              "    </tr>\n",
              "    <tr>\n",
              "      <th>3</th>\n",
              "      <td>8a1eb5ba49a682300149c3c068b806c7</td>\n",
              "      <td>14.000000</td>\n",
              "    </tr>\n",
              "    <tr>\n",
              "      <th>4</th>\n",
              "      <td>8a1edbf14734127f0147356fdb1b1eb2</td>\n",
              "      <td>11.500000</td>\n",
              "    </tr>\n",
              "  </tbody>\n",
              "</table>\n",
              "</div>\n",
              "      <button class=\"colab-df-convert\" onclick=\"convertToInteractive('df-89a6515b-e801-432c-9b26-6223fb1be2ea')\"\n",
              "              title=\"Convert this dataframe to an interactive table.\"\n",
              "              style=\"display:none;\">\n",
              "        \n",
              "  <svg xmlns=\"http://www.w3.org/2000/svg\" height=\"24px\"viewBox=\"0 0 24 24\"\n",
              "       width=\"24px\">\n",
              "    <path d=\"M0 0h24v24H0V0z\" fill=\"none\"/>\n",
              "    <path d=\"M18.56 5.44l.94 2.06.94-2.06 2.06-.94-2.06-.94-.94-2.06-.94 2.06-2.06.94zm-11 1L8.5 8.5l.94-2.06 2.06-.94-2.06-.94L8.5 2.5l-.94 2.06-2.06.94zm10 10l.94 2.06.94-2.06 2.06-.94-2.06-.94-.94-2.06-.94 2.06-2.06.94z\"/><path d=\"M17.41 7.96l-1.37-1.37c-.4-.4-.92-.59-1.43-.59-.52 0-1.04.2-1.43.59L10.3 9.45l-7.72 7.72c-.78.78-.78 2.05 0 2.83L4 21.41c.39.39.9.59 1.41.59.51 0 1.02-.2 1.41-.59l7.78-7.78 2.81-2.81c.8-.78.8-2.07 0-2.86zM5.41 20L4 18.59l7.72-7.72 1.47 1.35L5.41 20z\"/>\n",
              "  </svg>\n",
              "      </button>\n",
              "      \n",
              "  <style>\n",
              "    .colab-df-container {\n",
              "      display:flex;\n",
              "      flex-wrap:wrap;\n",
              "      gap: 12px;\n",
              "    }\n",
              "\n",
              "    .colab-df-convert {\n",
              "      background-color: #E8F0FE;\n",
              "      border: none;\n",
              "      border-radius: 50%;\n",
              "      cursor: pointer;\n",
              "      display: none;\n",
              "      fill: #1967D2;\n",
              "      height: 32px;\n",
              "      padding: 0 0 0 0;\n",
              "      width: 32px;\n",
              "    }\n",
              "\n",
              "    .colab-df-convert:hover {\n",
              "      background-color: #E2EBFA;\n",
              "      box-shadow: 0px 1px 2px rgba(60, 64, 67, 0.3), 0px 1px 3px 1px rgba(60, 64, 67, 0.15);\n",
              "      fill: #174EA6;\n",
              "    }\n",
              "\n",
              "    [theme=dark] .colab-df-convert {\n",
              "      background-color: #3B4455;\n",
              "      fill: #D2E3FC;\n",
              "    }\n",
              "\n",
              "    [theme=dark] .colab-df-convert:hover {\n",
              "      background-color: #434B5C;\n",
              "      box-shadow: 0px 1px 3px 1px rgba(0, 0, 0, 0.15);\n",
              "      filter: drop-shadow(0px 1px 2px rgba(0, 0, 0, 0.3));\n",
              "      fill: #FFFFFF;\n",
              "    }\n",
              "  </style>\n",
              "\n",
              "      <script>\n",
              "        const buttonEl =\n",
              "          document.querySelector('#df-89a6515b-e801-432c-9b26-6223fb1be2ea button.colab-df-convert');\n",
              "        buttonEl.style.display =\n",
              "          google.colab.kernel.accessAllowed ? 'block' : 'none';\n",
              "\n",
              "        async function convertToInteractive(key) {\n",
              "          const element = document.querySelector('#df-89a6515b-e801-432c-9b26-6223fb1be2ea');\n",
              "          const dataTable =\n",
              "            await google.colab.kernel.invokeFunction('convertToInteractive',\n",
              "                                                     [key], {});\n",
              "          if (!dataTable) return;\n",
              "\n",
              "          const docLinkHtml = 'Like what you see? Visit the ' +\n",
              "            '<a target=\"_blank\" href=https://colab.research.google.com/notebooks/data_table.ipynb>data table notebook</a>'\n",
              "            + ' to learn more about interactive tables.';\n",
              "          element.innerHTML = '';\n",
              "          dataTable['output_type'] = 'display_data';\n",
              "          await google.colab.output.renderOutput(dataTable, element);\n",
              "          const docLink = document.createElement('div');\n",
              "          docLink.innerHTML = docLinkHtml;\n",
              "          element.appendChild(docLink);\n",
              "        }\n",
              "      </script>\n",
              "    </div>\n",
              "  </div>\n",
              "  "
            ]
          },
          "metadata": {},
          "execution_count": 72
        }
      ]
    },
    {
      "cell_type": "markdown",
      "source": [
        "### Avg Active Span in days"
      ],
      "metadata": {
        "id": "WCLtMQidWTNS"
      }
    },
    {
      "cell_type": "code",
      "source": [
        "df_active_span = prevloan[[\"customerid\",\"active_span_days\"]]\n",
        "avg_active_span = df_active_span.groupby(\"customerid\", as_index=False).mean()\n",
        "avg_active_span.columns= [\"customerid\", \"avg_active_span_days\"]"
      ],
      "metadata": {
        "id": "2KrDAsuqWePH"
      },
      "execution_count": 73,
      "outputs": []
    },
    {
      "cell_type": "code",
      "source": [
        "avg_active_span.head()"
      ],
      "metadata": {
        "colab": {
          "base_uri": "https://localhost:8080/",
          "height": 206
        },
        "id": "ZCwO7QxmWeId",
        "outputId": "abd827dc-5da2-4353-8a37-97db3bc49af5"
      },
      "execution_count": 74,
      "outputs": [
        {
          "output_type": "execute_result",
          "data": {
            "text/plain": [
              "                         customerid  avg_active_span_days\n",
              "0  8a1088a0484472eb01484669e3ce4e0b             22.000000\n",
              "1  8a1a1e7e4f707f8b014f797718316cad             31.250000\n",
              "2  8a1a32fc49b632520149c3b8fdf85139             18.285714\n",
              "3  8a1eb5ba49a682300149c3c068b806c7             28.500000\n",
              "4  8a1edbf14734127f0147356fdb1b1eb2             18.000000"
            ],
            "text/html": [
              "\n",
              "  <div id=\"df-8cbf1243-f045-4498-bc9a-f581edbc2856\">\n",
              "    <div class=\"colab-df-container\">\n",
              "      <div>\n",
              "<style scoped>\n",
              "    .dataframe tbody tr th:only-of-type {\n",
              "        vertical-align: middle;\n",
              "    }\n",
              "\n",
              "    .dataframe tbody tr th {\n",
              "        vertical-align: top;\n",
              "    }\n",
              "\n",
              "    .dataframe thead th {\n",
              "        text-align: right;\n",
              "    }\n",
              "</style>\n",
              "<table border=\"1\" class=\"dataframe\">\n",
              "  <thead>\n",
              "    <tr style=\"text-align: right;\">\n",
              "      <th></th>\n",
              "      <th>customerid</th>\n",
              "      <th>avg_active_span_days</th>\n",
              "    </tr>\n",
              "  </thead>\n",
              "  <tbody>\n",
              "    <tr>\n",
              "      <th>0</th>\n",
              "      <td>8a1088a0484472eb01484669e3ce4e0b</td>\n",
              "      <td>22.000000</td>\n",
              "    </tr>\n",
              "    <tr>\n",
              "      <th>1</th>\n",
              "      <td>8a1a1e7e4f707f8b014f797718316cad</td>\n",
              "      <td>31.250000</td>\n",
              "    </tr>\n",
              "    <tr>\n",
              "      <th>2</th>\n",
              "      <td>8a1a32fc49b632520149c3b8fdf85139</td>\n",
              "      <td>18.285714</td>\n",
              "    </tr>\n",
              "    <tr>\n",
              "      <th>3</th>\n",
              "      <td>8a1eb5ba49a682300149c3c068b806c7</td>\n",
              "      <td>28.500000</td>\n",
              "    </tr>\n",
              "    <tr>\n",
              "      <th>4</th>\n",
              "      <td>8a1edbf14734127f0147356fdb1b1eb2</td>\n",
              "      <td>18.000000</td>\n",
              "    </tr>\n",
              "  </tbody>\n",
              "</table>\n",
              "</div>\n",
              "      <button class=\"colab-df-convert\" onclick=\"convertToInteractive('df-8cbf1243-f045-4498-bc9a-f581edbc2856')\"\n",
              "              title=\"Convert this dataframe to an interactive table.\"\n",
              "              style=\"display:none;\">\n",
              "        \n",
              "  <svg xmlns=\"http://www.w3.org/2000/svg\" height=\"24px\"viewBox=\"0 0 24 24\"\n",
              "       width=\"24px\">\n",
              "    <path d=\"M0 0h24v24H0V0z\" fill=\"none\"/>\n",
              "    <path d=\"M18.56 5.44l.94 2.06.94-2.06 2.06-.94-2.06-.94-.94-2.06-.94 2.06-2.06.94zm-11 1L8.5 8.5l.94-2.06 2.06-.94-2.06-.94L8.5 2.5l-.94 2.06-2.06.94zm10 10l.94 2.06.94-2.06 2.06-.94-2.06-.94-.94-2.06-.94 2.06-2.06.94z\"/><path d=\"M17.41 7.96l-1.37-1.37c-.4-.4-.92-.59-1.43-.59-.52 0-1.04.2-1.43.59L10.3 9.45l-7.72 7.72c-.78.78-.78 2.05 0 2.83L4 21.41c.39.39.9.59 1.41.59.51 0 1.02-.2 1.41-.59l7.78-7.78 2.81-2.81c.8-.78.8-2.07 0-2.86zM5.41 20L4 18.59l7.72-7.72 1.47 1.35L5.41 20z\"/>\n",
              "  </svg>\n",
              "      </button>\n",
              "      \n",
              "  <style>\n",
              "    .colab-df-container {\n",
              "      display:flex;\n",
              "      flex-wrap:wrap;\n",
              "      gap: 12px;\n",
              "    }\n",
              "\n",
              "    .colab-df-convert {\n",
              "      background-color: #E8F0FE;\n",
              "      border: none;\n",
              "      border-radius: 50%;\n",
              "      cursor: pointer;\n",
              "      display: none;\n",
              "      fill: #1967D2;\n",
              "      height: 32px;\n",
              "      padding: 0 0 0 0;\n",
              "      width: 32px;\n",
              "    }\n",
              "\n",
              "    .colab-df-convert:hover {\n",
              "      background-color: #E2EBFA;\n",
              "      box-shadow: 0px 1px 2px rgba(60, 64, 67, 0.3), 0px 1px 3px 1px rgba(60, 64, 67, 0.15);\n",
              "      fill: #174EA6;\n",
              "    }\n",
              "\n",
              "    [theme=dark] .colab-df-convert {\n",
              "      background-color: #3B4455;\n",
              "      fill: #D2E3FC;\n",
              "    }\n",
              "\n",
              "    [theme=dark] .colab-df-convert:hover {\n",
              "      background-color: #434B5C;\n",
              "      box-shadow: 0px 1px 3px 1px rgba(0, 0, 0, 0.15);\n",
              "      filter: drop-shadow(0px 1px 2px rgba(0, 0, 0, 0.3));\n",
              "      fill: #FFFFFF;\n",
              "    }\n",
              "  </style>\n",
              "\n",
              "      <script>\n",
              "        const buttonEl =\n",
              "          document.querySelector('#df-8cbf1243-f045-4498-bc9a-f581edbc2856 button.colab-df-convert');\n",
              "        buttonEl.style.display =\n",
              "          google.colab.kernel.accessAllowed ? 'block' : 'none';\n",
              "\n",
              "        async function convertToInteractive(key) {\n",
              "          const element = document.querySelector('#df-8cbf1243-f045-4498-bc9a-f581edbc2856');\n",
              "          const dataTable =\n",
              "            await google.colab.kernel.invokeFunction('convertToInteractive',\n",
              "                                                     [key], {});\n",
              "          if (!dataTable) return;\n",
              "\n",
              "          const docLinkHtml = 'Like what you see? Visit the ' +\n",
              "            '<a target=\"_blank\" href=https://colab.research.google.com/notebooks/data_table.ipynb>data table notebook</a>'\n",
              "            + ' to learn more about interactive tables.';\n",
              "          element.innerHTML = '';\n",
              "          dataTable['output_type'] = 'display_data';\n",
              "          await google.colab.output.renderOutput(dataTable, element);\n",
              "          const docLink = document.createElement('div');\n",
              "          docLink.innerHTML = docLinkHtml;\n",
              "          element.appendChild(docLink);\n",
              "        }\n",
              "      </script>\n",
              "    </div>\n",
              "  </div>\n",
              "  "
            ]
          },
          "metadata": {},
          "execution_count": 74
        }
      ]
    },
    {
      "cell_type": "markdown",
      "source": [
        "### Avg Interest"
      ],
      "metadata": {
        "id": "UYOaPK2xWz1t"
      }
    },
    {
      "cell_type": "code",
      "source": [
        "df_interest = prevloan[[\"customerid\",\"interest\"]]\n",
        "avg_interest = df_interest.groupby(\"customerid\", as_index=False).mean()\n",
        "avg_interest.columns= [\"customerid\", \"avg_interest\"]"
      ],
      "metadata": {
        "id": "wLhDn-QpW-PJ"
      },
      "execution_count": 75,
      "outputs": []
    },
    {
      "cell_type": "code",
      "source": [
        "avg_interest.head()"
      ],
      "metadata": {
        "colab": {
          "base_uri": "https://localhost:8080/",
          "height": 0
        },
        "id": "S2_sgAdTW-Hk",
        "outputId": "2a4b983c-2c74-4784-b147-89a0e27861d3"
      },
      "execution_count": 76,
      "outputs": [
        {
          "output_type": "execute_result",
          "data": {
            "text/plain": [
              "                         customerid  avg_interest\n",
              "0  8a1088a0484472eb01484669e3ce4e0b   1500.000000\n",
              "1  8a1a1e7e4f707f8b014f797718316cad   4875.000000\n",
              "2  8a1a32fc49b632520149c3b8fdf85139   2357.142857\n",
              "3  8a1eb5ba49a682300149c3c068b806c7   4050.000000\n",
              "4  8a1edbf14734127f0147356fdb1b1eb2   2250.000000"
            ],
            "text/html": [
              "\n",
              "  <div id=\"df-d8b59e55-8ec8-46f0-a3f0-63847e861c73\">\n",
              "    <div class=\"colab-df-container\">\n",
              "      <div>\n",
              "<style scoped>\n",
              "    .dataframe tbody tr th:only-of-type {\n",
              "        vertical-align: middle;\n",
              "    }\n",
              "\n",
              "    .dataframe tbody tr th {\n",
              "        vertical-align: top;\n",
              "    }\n",
              "\n",
              "    .dataframe thead th {\n",
              "        text-align: right;\n",
              "    }\n",
              "</style>\n",
              "<table border=\"1\" class=\"dataframe\">\n",
              "  <thead>\n",
              "    <tr style=\"text-align: right;\">\n",
              "      <th></th>\n",
              "      <th>customerid</th>\n",
              "      <th>avg_interest</th>\n",
              "    </tr>\n",
              "  </thead>\n",
              "  <tbody>\n",
              "    <tr>\n",
              "      <th>0</th>\n",
              "      <td>8a1088a0484472eb01484669e3ce4e0b</td>\n",
              "      <td>1500.000000</td>\n",
              "    </tr>\n",
              "    <tr>\n",
              "      <th>1</th>\n",
              "      <td>8a1a1e7e4f707f8b014f797718316cad</td>\n",
              "      <td>4875.000000</td>\n",
              "    </tr>\n",
              "    <tr>\n",
              "      <th>2</th>\n",
              "      <td>8a1a32fc49b632520149c3b8fdf85139</td>\n",
              "      <td>2357.142857</td>\n",
              "    </tr>\n",
              "    <tr>\n",
              "      <th>3</th>\n",
              "      <td>8a1eb5ba49a682300149c3c068b806c7</td>\n",
              "      <td>4050.000000</td>\n",
              "    </tr>\n",
              "    <tr>\n",
              "      <th>4</th>\n",
              "      <td>8a1edbf14734127f0147356fdb1b1eb2</td>\n",
              "      <td>2250.000000</td>\n",
              "    </tr>\n",
              "  </tbody>\n",
              "</table>\n",
              "</div>\n",
              "      <button class=\"colab-df-convert\" onclick=\"convertToInteractive('df-d8b59e55-8ec8-46f0-a3f0-63847e861c73')\"\n",
              "              title=\"Convert this dataframe to an interactive table.\"\n",
              "              style=\"display:none;\">\n",
              "        \n",
              "  <svg xmlns=\"http://www.w3.org/2000/svg\" height=\"24px\"viewBox=\"0 0 24 24\"\n",
              "       width=\"24px\">\n",
              "    <path d=\"M0 0h24v24H0V0z\" fill=\"none\"/>\n",
              "    <path d=\"M18.56 5.44l.94 2.06.94-2.06 2.06-.94-2.06-.94-.94-2.06-.94 2.06-2.06.94zm-11 1L8.5 8.5l.94-2.06 2.06-.94-2.06-.94L8.5 2.5l-.94 2.06-2.06.94zm10 10l.94 2.06.94-2.06 2.06-.94-2.06-.94-.94-2.06-.94 2.06-2.06.94z\"/><path d=\"M17.41 7.96l-1.37-1.37c-.4-.4-.92-.59-1.43-.59-.52 0-1.04.2-1.43.59L10.3 9.45l-7.72 7.72c-.78.78-.78 2.05 0 2.83L4 21.41c.39.39.9.59 1.41.59.51 0 1.02-.2 1.41-.59l7.78-7.78 2.81-2.81c.8-.78.8-2.07 0-2.86zM5.41 20L4 18.59l7.72-7.72 1.47 1.35L5.41 20z\"/>\n",
              "  </svg>\n",
              "      </button>\n",
              "      \n",
              "  <style>\n",
              "    .colab-df-container {\n",
              "      display:flex;\n",
              "      flex-wrap:wrap;\n",
              "      gap: 12px;\n",
              "    }\n",
              "\n",
              "    .colab-df-convert {\n",
              "      background-color: #E8F0FE;\n",
              "      border: none;\n",
              "      border-radius: 50%;\n",
              "      cursor: pointer;\n",
              "      display: none;\n",
              "      fill: #1967D2;\n",
              "      height: 32px;\n",
              "      padding: 0 0 0 0;\n",
              "      width: 32px;\n",
              "    }\n",
              "\n",
              "    .colab-df-convert:hover {\n",
              "      background-color: #E2EBFA;\n",
              "      box-shadow: 0px 1px 2px rgba(60, 64, 67, 0.3), 0px 1px 3px 1px rgba(60, 64, 67, 0.15);\n",
              "      fill: #174EA6;\n",
              "    }\n",
              "\n",
              "    [theme=dark] .colab-df-convert {\n",
              "      background-color: #3B4455;\n",
              "      fill: #D2E3FC;\n",
              "    }\n",
              "\n",
              "    [theme=dark] .colab-df-convert:hover {\n",
              "      background-color: #434B5C;\n",
              "      box-shadow: 0px 1px 3px 1px rgba(0, 0, 0, 0.15);\n",
              "      filter: drop-shadow(0px 1px 2px rgba(0, 0, 0, 0.3));\n",
              "      fill: #FFFFFF;\n",
              "    }\n",
              "  </style>\n",
              "\n",
              "      <script>\n",
              "        const buttonEl =\n",
              "          document.querySelector('#df-d8b59e55-8ec8-46f0-a3f0-63847e861c73 button.colab-df-convert');\n",
              "        buttonEl.style.display =\n",
              "          google.colab.kernel.accessAllowed ? 'block' : 'none';\n",
              "\n",
              "        async function convertToInteractive(key) {\n",
              "          const element = document.querySelector('#df-d8b59e55-8ec8-46f0-a3f0-63847e861c73');\n",
              "          const dataTable =\n",
              "            await google.colab.kernel.invokeFunction('convertToInteractive',\n",
              "                                                     [key], {});\n",
              "          if (!dataTable) return;\n",
              "\n",
              "          const docLinkHtml = 'Like what you see? Visit the ' +\n",
              "            '<a target=\"_blank\" href=https://colab.research.google.com/notebooks/data_table.ipynb>data table notebook</a>'\n",
              "            + ' to learn more about interactive tables.';\n",
              "          element.innerHTML = '';\n",
              "          dataTable['output_type'] = 'display_data';\n",
              "          await google.colab.output.renderOutput(dataTable, element);\n",
              "          const docLink = document.createElement('div');\n",
              "          docLink.innerHTML = docLinkHtml;\n",
              "          element.appendChild(docLink);\n",
              "        }\n",
              "      </script>\n",
              "    </div>\n",
              "  </div>\n",
              "  "
            ]
          },
          "metadata": {},
          "execution_count": 76
        }
      ]
    },
    {
      "cell_type": "markdown",
      "source": [
        "### Number of previous loans"
      ],
      "metadata": {
        "id": "llDjoqy4XjAU"
      }
    },
    {
      "cell_type": "code",
      "source": [
        "df_loannumber = prevloan[[\"customerid\",\"loannumber\"]]\n",
        "avg_loannumber = df_loannumber.groupby(\"customerid\", as_index=False).max()\n",
        "avg_loannumber.columns= [\"customerid\", \"max_loannumber\"]"
      ],
      "metadata": {
        "id": "nIWZWWYKXirf"
      },
      "execution_count": 77,
      "outputs": []
    },
    {
      "cell_type": "code",
      "source": [
        "avg_loannumber.head()"
      ],
      "metadata": {
        "colab": {
          "base_uri": "https://localhost:8080/",
          "height": 0
        },
        "id": "-YXhU9aFX9pq",
        "outputId": "8b7b1154-c5e2-4b5d-c191-ffee5d10ad5a"
      },
      "execution_count": 78,
      "outputs": [
        {
          "output_type": "execute_result",
          "data": {
            "text/plain": [
              "                         customerid  max_loannumber\n",
              "0  8a1088a0484472eb01484669e3ce4e0b               1\n",
              "1  8a1a1e7e4f707f8b014f797718316cad               4\n",
              "2  8a1a32fc49b632520149c3b8fdf85139               7\n",
              "3  8a1eb5ba49a682300149c3c068b806c7               8\n",
              "4  8a1edbf14734127f0147356fdb1b1eb2               2"
            ],
            "text/html": [
              "\n",
              "  <div id=\"df-69ab6aea-d66e-4bd7-968a-3cbf197c07c9\">\n",
              "    <div class=\"colab-df-container\">\n",
              "      <div>\n",
              "<style scoped>\n",
              "    .dataframe tbody tr th:only-of-type {\n",
              "        vertical-align: middle;\n",
              "    }\n",
              "\n",
              "    .dataframe tbody tr th {\n",
              "        vertical-align: top;\n",
              "    }\n",
              "\n",
              "    .dataframe thead th {\n",
              "        text-align: right;\n",
              "    }\n",
              "</style>\n",
              "<table border=\"1\" class=\"dataframe\">\n",
              "  <thead>\n",
              "    <tr style=\"text-align: right;\">\n",
              "      <th></th>\n",
              "      <th>customerid</th>\n",
              "      <th>max_loannumber</th>\n",
              "    </tr>\n",
              "  </thead>\n",
              "  <tbody>\n",
              "    <tr>\n",
              "      <th>0</th>\n",
              "      <td>8a1088a0484472eb01484669e3ce4e0b</td>\n",
              "      <td>1</td>\n",
              "    </tr>\n",
              "    <tr>\n",
              "      <th>1</th>\n",
              "      <td>8a1a1e7e4f707f8b014f797718316cad</td>\n",
              "      <td>4</td>\n",
              "    </tr>\n",
              "    <tr>\n",
              "      <th>2</th>\n",
              "      <td>8a1a32fc49b632520149c3b8fdf85139</td>\n",
              "      <td>7</td>\n",
              "    </tr>\n",
              "    <tr>\n",
              "      <th>3</th>\n",
              "      <td>8a1eb5ba49a682300149c3c068b806c7</td>\n",
              "      <td>8</td>\n",
              "    </tr>\n",
              "    <tr>\n",
              "      <th>4</th>\n",
              "      <td>8a1edbf14734127f0147356fdb1b1eb2</td>\n",
              "      <td>2</td>\n",
              "    </tr>\n",
              "  </tbody>\n",
              "</table>\n",
              "</div>\n",
              "      <button class=\"colab-df-convert\" onclick=\"convertToInteractive('df-69ab6aea-d66e-4bd7-968a-3cbf197c07c9')\"\n",
              "              title=\"Convert this dataframe to an interactive table.\"\n",
              "              style=\"display:none;\">\n",
              "        \n",
              "  <svg xmlns=\"http://www.w3.org/2000/svg\" height=\"24px\"viewBox=\"0 0 24 24\"\n",
              "       width=\"24px\">\n",
              "    <path d=\"M0 0h24v24H0V0z\" fill=\"none\"/>\n",
              "    <path d=\"M18.56 5.44l.94 2.06.94-2.06 2.06-.94-2.06-.94-.94-2.06-.94 2.06-2.06.94zm-11 1L8.5 8.5l.94-2.06 2.06-.94-2.06-.94L8.5 2.5l-.94 2.06-2.06.94zm10 10l.94 2.06.94-2.06 2.06-.94-2.06-.94-.94-2.06-.94 2.06-2.06.94z\"/><path d=\"M17.41 7.96l-1.37-1.37c-.4-.4-.92-.59-1.43-.59-.52 0-1.04.2-1.43.59L10.3 9.45l-7.72 7.72c-.78.78-.78 2.05 0 2.83L4 21.41c.39.39.9.59 1.41.59.51 0 1.02-.2 1.41-.59l7.78-7.78 2.81-2.81c.8-.78.8-2.07 0-2.86zM5.41 20L4 18.59l7.72-7.72 1.47 1.35L5.41 20z\"/>\n",
              "  </svg>\n",
              "      </button>\n",
              "      \n",
              "  <style>\n",
              "    .colab-df-container {\n",
              "      display:flex;\n",
              "      flex-wrap:wrap;\n",
              "      gap: 12px;\n",
              "    }\n",
              "\n",
              "    .colab-df-convert {\n",
              "      background-color: #E8F0FE;\n",
              "      border: none;\n",
              "      border-radius: 50%;\n",
              "      cursor: pointer;\n",
              "      display: none;\n",
              "      fill: #1967D2;\n",
              "      height: 32px;\n",
              "      padding: 0 0 0 0;\n",
              "      width: 32px;\n",
              "    }\n",
              "\n",
              "    .colab-df-convert:hover {\n",
              "      background-color: #E2EBFA;\n",
              "      box-shadow: 0px 1px 2px rgba(60, 64, 67, 0.3), 0px 1px 3px 1px rgba(60, 64, 67, 0.15);\n",
              "      fill: #174EA6;\n",
              "    }\n",
              "\n",
              "    [theme=dark] .colab-df-convert {\n",
              "      background-color: #3B4455;\n",
              "      fill: #D2E3FC;\n",
              "    }\n",
              "\n",
              "    [theme=dark] .colab-df-convert:hover {\n",
              "      background-color: #434B5C;\n",
              "      box-shadow: 0px 1px 3px 1px rgba(0, 0, 0, 0.15);\n",
              "      filter: drop-shadow(0px 1px 2px rgba(0, 0, 0, 0.3));\n",
              "      fill: #FFFFFF;\n",
              "    }\n",
              "  </style>\n",
              "\n",
              "      <script>\n",
              "        const buttonEl =\n",
              "          document.querySelector('#df-69ab6aea-d66e-4bd7-968a-3cbf197c07c9 button.colab-df-convert');\n",
              "        buttonEl.style.display =\n",
              "          google.colab.kernel.accessAllowed ? 'block' : 'none';\n",
              "\n",
              "        async function convertToInteractive(key) {\n",
              "          const element = document.querySelector('#df-69ab6aea-d66e-4bd7-968a-3cbf197c07c9');\n",
              "          const dataTable =\n",
              "            await google.colab.kernel.invokeFunction('convertToInteractive',\n",
              "                                                     [key], {});\n",
              "          if (!dataTable) return;\n",
              "\n",
              "          const docLinkHtml = 'Like what you see? Visit the ' +\n",
              "            '<a target=\"_blank\" href=https://colab.research.google.com/notebooks/data_table.ipynb>data table notebook</a>'\n",
              "            + ' to learn more about interactive tables.';\n",
              "          element.innerHTML = '';\n",
              "          dataTable['output_type'] = 'display_data';\n",
              "          await google.colab.output.renderOutput(dataTable, element);\n",
              "          const docLink = document.createElement('div');\n",
              "          docLink.innerHTML = docLinkHtml;\n",
              "          element.appendChild(docLink);\n",
              "        }\n",
              "      </script>\n",
              "    </div>\n",
              "  </div>\n",
              "  "
            ]
          },
          "metadata": {},
          "execution_count": 78
        }
      ]
    },
    {
      "cell_type": "markdown",
      "source": [
        "### Merge all"
      ],
      "metadata": {
        "id": "V2TTn9hvaaGO"
      }
    },
    {
      "cell_type": "code",
      "source": [
        "prevloan_merged = pd.merge(avg_loanamount, avg_paym_span, on=[\"customerid\"])\n",
        "prevloan_merged2 = pd.merge(prevloan_merged,avg_active_span, on=[\"customerid\"])\n",
        "prevloan_merged3 = pd.merge(prevloan_merged2, avg_active_span, on=[\"customerid\"])\n",
        "prevloan_merged4 = pd.merge(prevloan_merged2, avg_interest, on=[\"customerid\"])\n",
        "prevloan_merged5 = pd.merge(prevloan_merged4, avg_loannumber, on=[\"customerid\"])"
      ],
      "metadata": {
        "id": "2Sxz5Lpiad1p"
      },
      "execution_count": 79,
      "outputs": []
    },
    {
      "cell_type": "code",
      "source": [
        "prevloan_merged5.info()"
      ],
      "metadata": {
        "colab": {
          "base_uri": "https://localhost:8080/"
        },
        "id": "w83yz2bhbMhS",
        "outputId": "1c9d11d9-549b-4a3c-dac7-f8157f5f3892"
      },
      "execution_count": 80,
      "outputs": [
        {
          "output_type": "stream",
          "name": "stdout",
          "text": [
            "<class 'pandas.core.frame.DataFrame'>\n",
            "Int64Index: 4357 entries, 0 to 4356\n",
            "Data columns (total 6 columns):\n",
            " #   Column                Non-Null Count  Dtype  \n",
            "---  ------                --------------  -----  \n",
            " 0   customerid            4357 non-null   object \n",
            " 1   avg_loanamount        4357 non-null   float64\n",
            " 2   avg_paym_span_hrs     4357 non-null   float64\n",
            " 3   avg_active_span_days  4357 non-null   float64\n",
            " 4   avg_interest          4357 non-null   float64\n",
            " 5   max_loannumber        4357 non-null   int64  \n",
            "dtypes: float64(4), int64(1), object(1)\n",
            "memory usage: 238.3+ KB\n"
          ]
        }
      ]
    },
    {
      "cell_type": "code",
      "source": [
        "prevloan_merged5.head()"
      ],
      "metadata": {
        "colab": {
          "base_uri": "https://localhost:8080/",
          "height": 270
        },
        "id": "40oORICrksvy",
        "outputId": "6345e190-8954-49d3-b557-f9f5cae1fd5e"
      },
      "execution_count": 82,
      "outputs": [
        {
          "output_type": "execute_result",
          "data": {
            "text/plain": [
              "                         customerid  avg_loanamount  avg_paym_span_hrs  \\\n",
              "0  8a1088a0484472eb01484669e3ce4e0b    10000.000000          20.000000   \n",
              "1  8a1a1e7e4f707f8b014f797718316cad    17500.000000          14.750000   \n",
              "2  8a1a32fc49b632520149c3b8fdf85139    12857.142857          12.714286   \n",
              "3  8a1eb5ba49a682300149c3c068b806c7    16250.000000          14.000000   \n",
              "4  8a1edbf14734127f0147356fdb1b1eb2    10000.000000          11.500000   \n",
              "\n",
              "   avg_active_span_days  avg_interest  max_loannumber  \n",
              "0             22.000000   1500.000000               1  \n",
              "1             31.250000   4875.000000               4  \n",
              "2             18.285714   2357.142857               7  \n",
              "3             28.500000   4050.000000               8  \n",
              "4             18.000000   2250.000000               2  "
            ],
            "text/html": [
              "\n",
              "  <div id=\"df-eb5ced92-9522-4ed6-8642-260f9b23c5a6\">\n",
              "    <div class=\"colab-df-container\">\n",
              "      <div>\n",
              "<style scoped>\n",
              "    .dataframe tbody tr th:only-of-type {\n",
              "        vertical-align: middle;\n",
              "    }\n",
              "\n",
              "    .dataframe tbody tr th {\n",
              "        vertical-align: top;\n",
              "    }\n",
              "\n",
              "    .dataframe thead th {\n",
              "        text-align: right;\n",
              "    }\n",
              "</style>\n",
              "<table border=\"1\" class=\"dataframe\">\n",
              "  <thead>\n",
              "    <tr style=\"text-align: right;\">\n",
              "      <th></th>\n",
              "      <th>customerid</th>\n",
              "      <th>avg_loanamount</th>\n",
              "      <th>avg_paym_span_hrs</th>\n",
              "      <th>avg_active_span_days</th>\n",
              "      <th>avg_interest</th>\n",
              "      <th>max_loannumber</th>\n",
              "    </tr>\n",
              "  </thead>\n",
              "  <tbody>\n",
              "    <tr>\n",
              "      <th>0</th>\n",
              "      <td>8a1088a0484472eb01484669e3ce4e0b</td>\n",
              "      <td>10000.000000</td>\n",
              "      <td>20.000000</td>\n",
              "      <td>22.000000</td>\n",
              "      <td>1500.000000</td>\n",
              "      <td>1</td>\n",
              "    </tr>\n",
              "    <tr>\n",
              "      <th>1</th>\n",
              "      <td>8a1a1e7e4f707f8b014f797718316cad</td>\n",
              "      <td>17500.000000</td>\n",
              "      <td>14.750000</td>\n",
              "      <td>31.250000</td>\n",
              "      <td>4875.000000</td>\n",
              "      <td>4</td>\n",
              "    </tr>\n",
              "    <tr>\n",
              "      <th>2</th>\n",
              "      <td>8a1a32fc49b632520149c3b8fdf85139</td>\n",
              "      <td>12857.142857</td>\n",
              "      <td>12.714286</td>\n",
              "      <td>18.285714</td>\n",
              "      <td>2357.142857</td>\n",
              "      <td>7</td>\n",
              "    </tr>\n",
              "    <tr>\n",
              "      <th>3</th>\n",
              "      <td>8a1eb5ba49a682300149c3c068b806c7</td>\n",
              "      <td>16250.000000</td>\n",
              "      <td>14.000000</td>\n",
              "      <td>28.500000</td>\n",
              "      <td>4050.000000</td>\n",
              "      <td>8</td>\n",
              "    </tr>\n",
              "    <tr>\n",
              "      <th>4</th>\n",
              "      <td>8a1edbf14734127f0147356fdb1b1eb2</td>\n",
              "      <td>10000.000000</td>\n",
              "      <td>11.500000</td>\n",
              "      <td>18.000000</td>\n",
              "      <td>2250.000000</td>\n",
              "      <td>2</td>\n",
              "    </tr>\n",
              "  </tbody>\n",
              "</table>\n",
              "</div>\n",
              "      <button class=\"colab-df-convert\" onclick=\"convertToInteractive('df-eb5ced92-9522-4ed6-8642-260f9b23c5a6')\"\n",
              "              title=\"Convert this dataframe to an interactive table.\"\n",
              "              style=\"display:none;\">\n",
              "        \n",
              "  <svg xmlns=\"http://www.w3.org/2000/svg\" height=\"24px\"viewBox=\"0 0 24 24\"\n",
              "       width=\"24px\">\n",
              "    <path d=\"M0 0h24v24H0V0z\" fill=\"none\"/>\n",
              "    <path d=\"M18.56 5.44l.94 2.06.94-2.06 2.06-.94-2.06-.94-.94-2.06-.94 2.06-2.06.94zm-11 1L8.5 8.5l.94-2.06 2.06-.94-2.06-.94L8.5 2.5l-.94 2.06-2.06.94zm10 10l.94 2.06.94-2.06 2.06-.94-2.06-.94-.94-2.06-.94 2.06-2.06.94z\"/><path d=\"M17.41 7.96l-1.37-1.37c-.4-.4-.92-.59-1.43-.59-.52 0-1.04.2-1.43.59L10.3 9.45l-7.72 7.72c-.78.78-.78 2.05 0 2.83L4 21.41c.39.39.9.59 1.41.59.51 0 1.02-.2 1.41-.59l7.78-7.78 2.81-2.81c.8-.78.8-2.07 0-2.86zM5.41 20L4 18.59l7.72-7.72 1.47 1.35L5.41 20z\"/>\n",
              "  </svg>\n",
              "      </button>\n",
              "      \n",
              "  <style>\n",
              "    .colab-df-container {\n",
              "      display:flex;\n",
              "      flex-wrap:wrap;\n",
              "      gap: 12px;\n",
              "    }\n",
              "\n",
              "    .colab-df-convert {\n",
              "      background-color: #E8F0FE;\n",
              "      border: none;\n",
              "      border-radius: 50%;\n",
              "      cursor: pointer;\n",
              "      display: none;\n",
              "      fill: #1967D2;\n",
              "      height: 32px;\n",
              "      padding: 0 0 0 0;\n",
              "      width: 32px;\n",
              "    }\n",
              "\n",
              "    .colab-df-convert:hover {\n",
              "      background-color: #E2EBFA;\n",
              "      box-shadow: 0px 1px 2px rgba(60, 64, 67, 0.3), 0px 1px 3px 1px rgba(60, 64, 67, 0.15);\n",
              "      fill: #174EA6;\n",
              "    }\n",
              "\n",
              "    [theme=dark] .colab-df-convert {\n",
              "      background-color: #3B4455;\n",
              "      fill: #D2E3FC;\n",
              "    }\n",
              "\n",
              "    [theme=dark] .colab-df-convert:hover {\n",
              "      background-color: #434B5C;\n",
              "      box-shadow: 0px 1px 3px 1px rgba(0, 0, 0, 0.15);\n",
              "      filter: drop-shadow(0px 1px 2px rgba(0, 0, 0, 0.3));\n",
              "      fill: #FFFFFF;\n",
              "    }\n",
              "  </style>\n",
              "\n",
              "      <script>\n",
              "        const buttonEl =\n",
              "          document.querySelector('#df-eb5ced92-9522-4ed6-8642-260f9b23c5a6 button.colab-df-convert');\n",
              "        buttonEl.style.display =\n",
              "          google.colab.kernel.accessAllowed ? 'block' : 'none';\n",
              "\n",
              "        async function convertToInteractive(key) {\n",
              "          const element = document.querySelector('#df-eb5ced92-9522-4ed6-8642-260f9b23c5a6');\n",
              "          const dataTable =\n",
              "            await google.colab.kernel.invokeFunction('convertToInteractive',\n",
              "                                                     [key], {});\n",
              "          if (!dataTable) return;\n",
              "\n",
              "          const docLinkHtml = 'Like what you see? Visit the ' +\n",
              "            '<a target=\"_blank\" href=https://colab.research.google.com/notebooks/data_table.ipynb>data table notebook</a>'\n",
              "            + ' to learn more about interactive tables.';\n",
              "          element.innerHTML = '';\n",
              "          dataTable['output_type'] = 'display_data';\n",
              "          await google.colab.output.renderOutput(dataTable, element);\n",
              "          const docLink = document.createElement('div');\n",
              "          docLink.innerHTML = docLinkHtml;\n",
              "          element.appendChild(docLink);\n",
              "        }\n",
              "      </script>\n",
              "    </div>\n",
              "  </div>\n",
              "  "
            ]
          },
          "metadata": {},
          "execution_count": 82
        }
      ]
    },
    {
      "cell_type": "code",
      "source": [
        "prevloan_merged5.to_csv('/content/prevloan_merged.csv', index = False)"
      ],
      "metadata": {
        "id": "CJIQkllJhi0q"
      },
      "execution_count": 81,
      "outputs": []
    },
    {
      "cell_type": "markdown",
      "source": [
        "## Merged datasets"
      ],
      "metadata": {
        "id": "ZXgRVr6UcP13"
      }
    },
    {
      "cell_type": "code",
      "source": [
        "perf_prevloan_merged= performance.join(prevloan_merged5.set_index('customerid'), on='customerid')\n",
        "perf_prevloan_merged.info()"
      ],
      "metadata": {
        "id": "c4mcU8OuydrT"
      },
      "execution_count": null,
      "outputs": []
    },
    {
      "cell_type": "code",
      "source": [
        "perf_prevloan_merged.isnull().sum()"
      ],
      "metadata": {
        "id": "b9yqZ4RJa7WE"
      },
      "execution_count": null,
      "outputs": []
    },
    {
      "cell_type": "code",
      "source": [
        "perf_prevloan_merged = perf_prevloan_merged.dropna()\n",
        "perf_prevloan_merged.info()"
      ],
      "metadata": {
        "colab": {
          "base_uri": "https://localhost:8080/"
        },
        "id": "NMXI5ujdbV1V",
        "outputId": "05467336-6e80-4293-a602-313e22a94e9b"
      },
      "execution_count": 63,
      "outputs": [
        {
          "output_type": "stream",
          "name": "stdout",
          "text": [
            "<class 'pandas.core.frame.DataFrame'>\n",
            "Int64Index: 4357 entries, 0 to 4367\n",
            "Data columns (total 14 columns):\n",
            " #   Column                Non-Null Count  Dtype  \n",
            "---  ------                --------------  -----  \n",
            " 0   customerid            4357 non-null   object \n",
            " 1   systemloanid          4357 non-null   int64  \n",
            " 2   loannumber            4357 non-null   object \n",
            " 3   loanamount            4357 non-null   float64\n",
            " 4   termdays              4357 non-null   object \n",
            " 5   interest              4357 non-null   float64\n",
            " 6   loan_interval         4357 non-null   object \n",
            " 7   interest_interval     4357 non-null   object \n",
            " 8   good_bad_flag         4357 non-null   object \n",
            " 9   avg_loanamount        4357 non-null   float64\n",
            " 10  avg_paym_span_hrs     4357 non-null   float64\n",
            " 11  avg_active_span_days  4357 non-null   float64\n",
            " 12  avg_interest          4357 non-null   float64\n",
            " 13  max_loannumber        4357 non-null   float64\n",
            "dtypes: float64(7), int64(1), object(6)\n",
            "memory usage: 510.6+ KB\n"
          ]
        }
      ]
    },
    {
      "cell_type": "code",
      "source": [
        "total_merged= perf_prevloan_merged.join(demogr.set_index('customerid'), on='customerid')\n",
        "total_merged.info()"
      ],
      "metadata": {
        "colab": {
          "base_uri": "https://localhost:8080/"
        },
        "id": "S3wnzxtEby_U",
        "outputId": "005066b1-5330-4812-a443-a4dedae3d261"
      },
      "execution_count": 93,
      "outputs": [
        {
          "output_type": "stream",
          "name": "stdout",
          "text": [
            "<class 'pandas.core.frame.DataFrame'>\n",
            "Int64Index: 4364 entries, 0 to 4367\n",
            "Data columns (total 18 columns):\n",
            " #   Column                Non-Null Count  Dtype  \n",
            "---  ------                --------------  -----  \n",
            " 0   customerid            4364 non-null   object \n",
            " 1   systemloanid          4364 non-null   int64  \n",
            " 2   loannumber            4364 non-null   object \n",
            " 3   loanamount            4364 non-null   float64\n",
            " 4   termdays              4364 non-null   object \n",
            " 5   interest              4364 non-null   float64\n",
            " 6   loan_interval         4364 non-null   object \n",
            " 7   interest_interval     4364 non-null   object \n",
            " 8   good_bad_flag         4364 non-null   object \n",
            " 9   avg_loanamount        4364 non-null   float64\n",
            " 10  avg_paym_span_hrs     4364 non-null   float64\n",
            " 11  avg_active_span_days  4364 non-null   float64\n",
            " 12  avg_interest          4364 non-null   float64\n",
            " 13  max_loannumber        4364 non-null   float64\n",
            " 14  bank_name_clients     3083 non-null   object \n",
            " 15  age                   3083 non-null   float64\n",
            " 16  state                 3083 non-null   object \n",
            " 17  age_interval          3080 non-null   object \n",
            "dtypes: float64(8), int64(1), object(9)\n",
            "memory usage: 647.8+ KB\n"
          ]
        }
      ]
    },
    {
      "cell_type": "code",
      "source": [
        "total_merged.isnull().sum()"
      ],
      "metadata": {
        "colab": {
          "base_uri": "https://localhost:8080/"
        },
        "id": "-E4e6eOxcTg2",
        "outputId": "1a5306fc-30b7-4e27-ffe9-26f48c4eae1f"
      },
      "execution_count": 59,
      "outputs": [
        {
          "output_type": "execute_result",
          "data": {
            "text/plain": [
              "customerid                 0\n",
              "systemloanid               0\n",
              "loannumber                 0\n",
              "loanamount                 0\n",
              "termdays                   0\n",
              "interest                   0\n",
              "loan_interval              0\n",
              "interest_interval          0\n",
              "good_bad_flag              0\n",
              "avg_loanamount             0\n",
              "avg_paym_span_hrs          0\n",
              "avg_active_span_days       0\n",
              "avg_interest               0\n",
              "max_loannumber             0\n",
              "bank_name_clients       1281\n",
              "age                     1281\n",
              "state                   1281\n",
              "age_interval            1284\n",
              "dtype: int64"
            ]
          },
          "metadata": {},
          "execution_count": 59
        }
      ]
    },
    {
      "cell_type": "markdown",
      "source": [
        "## Rellenamos datos"
      ],
      "metadata": {
        "id": "_U0UJViWvDpE"
      }
    },
    {
      "cell_type": "code",
      "source": [
        "demogr_test= pd.read_csv('/content/test_datos_demograficos_cleandef.csv')\n",
        "demogr_test.info()"
      ],
      "metadata": {
        "colab": {
          "base_uri": "https://localhost:8080/"
        },
        "id": "u6xo57x5u9Il",
        "outputId": "949851ef-9b7a-4eb5-dcc8-30316e3d1812"
      },
      "execution_count": 94,
      "outputs": [
        {
          "output_type": "stream",
          "name": "stdout",
          "text": [
            "<class 'pandas.core.frame.DataFrame'>\n",
            "RangeIndex: 1403 entries, 0 to 1402\n",
            "Data columns (total 5 columns):\n",
            " #   Column             Non-Null Count  Dtype \n",
            "---  ------             --------------  ----- \n",
            " 0   customerid         1403 non-null   object\n",
            " 1   bank_name_clients  1403 non-null   object\n",
            " 2   age                1403 non-null   int64 \n",
            " 3   state              1403 non-null   object\n",
            " 4   age_interval       1398 non-null   object\n",
            "dtypes: int64(1), object(4)\n",
            "memory usage: 54.9+ KB\n"
          ]
        }
      ]
    },
    {
      "cell_type": "code",
      "source": [
        "#para saber cuantas del test están en el merge total\n",
        "demogr_test[\"isin\"] = demogr_test.apply(lambda x: \"si\" if total_merged[\"customerid\"].isin(x).any() else \"no\",axis=1)\n",
        "demogr_test.groupby('isin').count()"
      ],
      "metadata": {
        "colab": {
          "base_uri": "https://localhost:8080/",
          "height": 143
        },
        "id": "8N-oLgNmvMbM",
        "outputId": "c6935d30-85c9-4ab2-98a5-2790ea0b0f5c"
      },
      "execution_count": 95,
      "outputs": [
        {
          "output_type": "execute_result",
          "data": {
            "text/plain": [
              "      customerid  bank_name_clients   age  state  age_interval\n",
              "isin                                                          \n",
              "no           369                369   369    369           367\n",
              "si          1034               1034  1034   1034          1031"
            ],
            "text/html": [
              "\n",
              "  <div id=\"df-15afad2b-c889-4f4c-a235-ab00c6782a54\">\n",
              "    <div class=\"colab-df-container\">\n",
              "      <div>\n",
              "<style scoped>\n",
              "    .dataframe tbody tr th:only-of-type {\n",
              "        vertical-align: middle;\n",
              "    }\n",
              "\n",
              "    .dataframe tbody tr th {\n",
              "        vertical-align: top;\n",
              "    }\n",
              "\n",
              "    .dataframe thead th {\n",
              "        text-align: right;\n",
              "    }\n",
              "</style>\n",
              "<table border=\"1\" class=\"dataframe\">\n",
              "  <thead>\n",
              "    <tr style=\"text-align: right;\">\n",
              "      <th></th>\n",
              "      <th>customerid</th>\n",
              "      <th>bank_name_clients</th>\n",
              "      <th>age</th>\n",
              "      <th>state</th>\n",
              "      <th>age_interval</th>\n",
              "    </tr>\n",
              "    <tr>\n",
              "      <th>isin</th>\n",
              "      <th></th>\n",
              "      <th></th>\n",
              "      <th></th>\n",
              "      <th></th>\n",
              "      <th></th>\n",
              "    </tr>\n",
              "  </thead>\n",
              "  <tbody>\n",
              "    <tr>\n",
              "      <th>no</th>\n",
              "      <td>369</td>\n",
              "      <td>369</td>\n",
              "      <td>369</td>\n",
              "      <td>369</td>\n",
              "      <td>367</td>\n",
              "    </tr>\n",
              "    <tr>\n",
              "      <th>si</th>\n",
              "      <td>1034</td>\n",
              "      <td>1034</td>\n",
              "      <td>1034</td>\n",
              "      <td>1034</td>\n",
              "      <td>1031</td>\n",
              "    </tr>\n",
              "  </tbody>\n",
              "</table>\n",
              "</div>\n",
              "      <button class=\"colab-df-convert\" onclick=\"convertToInteractive('df-15afad2b-c889-4f4c-a235-ab00c6782a54')\"\n",
              "              title=\"Convert this dataframe to an interactive table.\"\n",
              "              style=\"display:none;\">\n",
              "        \n",
              "  <svg xmlns=\"http://www.w3.org/2000/svg\" height=\"24px\"viewBox=\"0 0 24 24\"\n",
              "       width=\"24px\">\n",
              "    <path d=\"M0 0h24v24H0V0z\" fill=\"none\"/>\n",
              "    <path d=\"M18.56 5.44l.94 2.06.94-2.06 2.06-.94-2.06-.94-.94-2.06-.94 2.06-2.06.94zm-11 1L8.5 8.5l.94-2.06 2.06-.94-2.06-.94L8.5 2.5l-.94 2.06-2.06.94zm10 10l.94 2.06.94-2.06 2.06-.94-2.06-.94-.94-2.06-.94 2.06-2.06.94z\"/><path d=\"M17.41 7.96l-1.37-1.37c-.4-.4-.92-.59-1.43-.59-.52 0-1.04.2-1.43.59L10.3 9.45l-7.72 7.72c-.78.78-.78 2.05 0 2.83L4 21.41c.39.39.9.59 1.41.59.51 0 1.02-.2 1.41-.59l7.78-7.78 2.81-2.81c.8-.78.8-2.07 0-2.86zM5.41 20L4 18.59l7.72-7.72 1.47 1.35L5.41 20z\"/>\n",
              "  </svg>\n",
              "      </button>\n",
              "      \n",
              "  <style>\n",
              "    .colab-df-container {\n",
              "      display:flex;\n",
              "      flex-wrap:wrap;\n",
              "      gap: 12px;\n",
              "    }\n",
              "\n",
              "    .colab-df-convert {\n",
              "      background-color: #E8F0FE;\n",
              "      border: none;\n",
              "      border-radius: 50%;\n",
              "      cursor: pointer;\n",
              "      display: none;\n",
              "      fill: #1967D2;\n",
              "      height: 32px;\n",
              "      padding: 0 0 0 0;\n",
              "      width: 32px;\n",
              "    }\n",
              "\n",
              "    .colab-df-convert:hover {\n",
              "      background-color: #E2EBFA;\n",
              "      box-shadow: 0px 1px 2px rgba(60, 64, 67, 0.3), 0px 1px 3px 1px rgba(60, 64, 67, 0.15);\n",
              "      fill: #174EA6;\n",
              "    }\n",
              "\n",
              "    [theme=dark] .colab-df-convert {\n",
              "      background-color: #3B4455;\n",
              "      fill: #D2E3FC;\n",
              "    }\n",
              "\n",
              "    [theme=dark] .colab-df-convert:hover {\n",
              "      background-color: #434B5C;\n",
              "      box-shadow: 0px 1px 3px 1px rgba(0, 0, 0, 0.15);\n",
              "      filter: drop-shadow(0px 1px 2px rgba(0, 0, 0, 0.3));\n",
              "      fill: #FFFFFF;\n",
              "    }\n",
              "  </style>\n",
              "\n",
              "      <script>\n",
              "        const buttonEl =\n",
              "          document.querySelector('#df-15afad2b-c889-4f4c-a235-ab00c6782a54 button.colab-df-convert');\n",
              "        buttonEl.style.display =\n",
              "          google.colab.kernel.accessAllowed ? 'block' : 'none';\n",
              "\n",
              "        async function convertToInteractive(key) {\n",
              "          const element = document.querySelector('#df-15afad2b-c889-4f4c-a235-ab00c6782a54');\n",
              "          const dataTable =\n",
              "            await google.colab.kernel.invokeFunction('convertToInteractive',\n",
              "                                                     [key], {});\n",
              "          if (!dataTable) return;\n",
              "\n",
              "          const docLinkHtml = 'Like what you see? Visit the ' +\n",
              "            '<a target=\"_blank\" href=https://colab.research.google.com/notebooks/data_table.ipynb>data table notebook</a>'\n",
              "            + ' to learn more about interactive tables.';\n",
              "          element.innerHTML = '';\n",
              "          dataTable['output_type'] = 'display_data';\n",
              "          await google.colab.output.renderOutput(dataTable, element);\n",
              "          const docLink = document.createElement('div');\n",
              "          docLink.innerHTML = docLinkHtml;\n",
              "          element.appendChild(docLink);\n",
              "        }\n",
              "      </script>\n",
              "    </div>\n",
              "  </div>\n",
              "  "
            ]
          },
          "metadata": {},
          "execution_count": 95
        }
      ]
    },
    {
      "cell_type": "code",
      "source": [
        "#nos quedamos solo con las que sí están\n",
        "demogr_test = demogr_test.drop(demogr_test[demogr_test['isin'] == 'no'].index)\n",
        "del demogr_test['isin']\n",
        "demogr_test.info()"
      ],
      "metadata": {
        "colab": {
          "base_uri": "https://localhost:8080/"
        },
        "id": "-zqfnJ1LvXuS",
        "outputId": "f12024a6-4346-4890-e36a-a553aca554ec"
      },
      "execution_count": 96,
      "outputs": [
        {
          "output_type": "stream",
          "name": "stdout",
          "text": [
            "<class 'pandas.core.frame.DataFrame'>\n",
            "Int64Index: 1034 entries, 0 to 1402\n",
            "Data columns (total 5 columns):\n",
            " #   Column             Non-Null Count  Dtype \n",
            "---  ------             --------------  ----- \n",
            " 0   customerid         1034 non-null   object\n",
            " 1   bank_name_clients  1034 non-null   object\n",
            " 2   age                1034 non-null   int64 \n",
            " 3   state              1034 non-null   object\n",
            " 4   age_interval       1031 non-null   object\n",
            "dtypes: int64(1), object(4)\n",
            "memory usage: 48.5+ KB\n"
          ]
        }
      ]
    },
    {
      "cell_type": "code",
      "source": [
        "#actualizamos valores variable bank_name_clients\n",
        "\n",
        "total_merged = total_merged.merge(demogr_test[['customerid', 'bank_name_clients']],on='customerid',how=\"left\")\n",
        "total_merged['bank_name_clients_y'] = total_merged['bank_name_clients_y'].fillna(total_merged['bank_name_clients_x'])\n",
        "total_merged.drop([\"bank_name_clients_x\"], inplace=True, axis=1)\n",
        "total_merged.rename(columns={'bank_name_clients_y':'bank_name_clients'},inplace=True)"
      ],
      "metadata": {
        "id": "t-WmmesrwWDW"
      },
      "execution_count": 97,
      "outputs": []
    },
    {
      "cell_type": "code",
      "source": [
        "#actualizamos valores variable age\n",
        "\n",
        "total_merged = total_merged.merge(demogr_test[['customerid', 'age']],on='customerid',how=\"left\")\n",
        "total_merged['age_y'] = total_merged['age_y'].fillna(total_merged['age_x'])\n",
        "total_merged.drop([\"age_x\"], inplace=True, axis=1)\n",
        "total_merged.rename(columns={'age_y':'age'},inplace=True)"
      ],
      "metadata": {
        "id": "UiZsP3StwbkQ"
      },
      "execution_count": 98,
      "outputs": []
    },
    {
      "cell_type": "code",
      "source": [
        "#actualizamos valores variable age_interval\n",
        "\n",
        "total_merged = total_merged.merge(demogr_test[['customerid', 'age_interval']],on='customerid',how=\"left\")\n",
        "total_merged['age_interval_y'] = total_merged['age_interval_y'].fillna(total_merged['age_interval_x'])\n",
        "total_merged.drop([\"age_interval_x\"], inplace=True, axis=1)\n",
        "total_merged.rename(columns={'age_interval_y':'age_interval'},inplace=True)"
      ],
      "metadata": {
        "id": "Jxt6x6iIwbdz"
      },
      "execution_count": 99,
      "outputs": []
    },
    {
      "cell_type": "code",
      "source": [
        "#actualizamos valores variable state\n",
        "\n",
        "total_merged = total_merged.merge(demogr_test[['customerid', 'state']],on='customerid',how=\"left\")\n",
        "total_merged['state_y'] = total_merged['state_y'].fillna(total_merged['state_x'])\n",
        "total_merged.drop([\"state_x\"], inplace=True, axis=1)\n",
        "total_merged.rename(columns={'state_y':'state'},inplace=True)"
      ],
      "metadata": {
        "id": "KXehnJBbwbVi"
      },
      "execution_count": 100,
      "outputs": []
    },
    {
      "cell_type": "code",
      "source": [
        "total_merged.isnull().sum()"
      ],
      "metadata": {
        "id": "EU94ikDrwnYc"
      },
      "execution_count": null,
      "outputs": []
    },
    {
      "cell_type": "code",
      "source": [
        "total_merged= total_merged.dropna()\n",
        "total_merged.info()"
      ],
      "metadata": {
        "id": "ndDera1nwqQH"
      },
      "execution_count": null,
      "outputs": []
    },
    {
      "cell_type": "code",
      "source": [
        "total_merged.to_csv('/content/total_merged_def.csv', index = False)"
      ],
      "metadata": {
        "id": "EzaWiqxTwta0"
      },
      "execution_count": 102,
      "outputs": []
    }
  ]
}