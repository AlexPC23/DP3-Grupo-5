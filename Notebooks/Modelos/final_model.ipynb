{
  "nbformat": 4,
  "nbformat_minor": 0,
  "metadata": {
    "colab": {
      "name": "final_model.ipynb",
      "provenance": []
    },
    "kernelspec": {
      "name": "python3",
      "display_name": "Python 3"
    },
    "language_info": {
      "name": "python"
    }
  },
  "cells": [
    {
      "cell_type": "markdown",
      "source": [
        "## COMPARACIÓN MODELOS\n",
        "\n",
        "|AUC|Train|Test|Model|\n",
        "|:----|:----|:----|:----|\n",
        "|Original|0.771737|0.659341|XGBoost|\n",
        "|Cluster|0.771737|0.659341|XGBoost|\n",
        "|Top 10 features|0.765915|0.65626|XGBoost|\n",
        "|Top coefficient features|0.765816|0.640837|Random Forest|\n",
        "|PCA3|0.70035|0.604755|XGBoost|\n",
        "|PCA6|0.999998|1.0|XGBoost|"
      ],
      "metadata": {
        "id": "fBtswiEFUzPT"
      }
    },
    {
      "cell_type": "markdown",
      "source": [
        "Observamos que el mejor modelo es el de los 6 componentes principales. No obstante, un AUC tan alto indica presencia de overfitting, por lo que hemos decidido seleccionar el original.\n",
        "\n",
        "Este tiene el mismo AUC que el del Cluster, pero hemos decidido coger el original."
      ],
      "metadata": {
        "id": "sRg3okzhZjrW"
      }
    }
  ]
}